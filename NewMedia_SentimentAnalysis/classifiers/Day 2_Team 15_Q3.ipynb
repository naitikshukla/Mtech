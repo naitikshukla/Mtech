{
 "cells": [
  {
   "cell_type": "code",
   "execution_count": 68,
   "metadata": {
    "collapsed": true
   },
   "outputs": [],
   "source": [
    "# Importing packages\n",
    "import argparse\n",
    "import json\n",
    "import pprint\n",
    "import requests\n",
    "import sys\n",
    "import urllib\n",
    "import re\n",
    "import pickle as pk\n",
    "from collections import defaultdict\n",
    "from sklearn.feature_extraction.text import TfidfVectorizer\n",
    "from sklearn.svm import SVC\n",
    "from os import getcwd, chdir\n",
    "import json\n",
    "\n",
    "\n",
    "# This client code can run on Python 2.x or 3.x.  Your imports can be\n",
    "# simpler if you only need one of those.\n",
    "try:\n",
    "    # For Python 3.0 and later\n",
    "    from urllib.error import HTTPError\n",
    "    from urllib.parse import quote\n",
    "    from urllib.parse import urlencode\n",
    "except ImportError:\n",
    "    # Fall back to Python 2's urllib2 and urllib\n",
    "    from urllib2 import HTTPError\n",
    "    from urllib import quote\n",
    "    from urllib import urlencode"
   ]
  },
  {
   "cell_type": "code",
   "execution_count": 69,
   "metadata": {
    "collapsed": true
   },
   "outputs": [],
   "source": [
    "# OAuth credential placeholders that must be filled in by users.\n",
    "# You can find them on\n",
    "# https://www.yelp.com/developers/v3/manage_app\n",
    "CLIENT_ID = \"CWrjzJHEP9wnCstt8u7CJg\"\n",
    "CLIENT_SECRET = \"zdFTrdoQvZ4FnJ6nmunRR947PXkYKPSIQJOxNRfOklmkbPOxwx8xNLIo4vsdkQc7\"\n",
    "\n",
    "# API constants, you shouldn't have to change these.\n",
    "API_HOST = 'https://api.yelp.com'\n",
    "SEARCH_PATH = '/v3/businesses/search'\n",
    "BUSINESS_PATH = '/v3/businesses/'  # Business ID will come after slash.\n",
    "REVIEWS_PATH = '/reviews'\n",
    "TOKEN_PATH = '/oauth2/token'\n",
    "GRANT_TYPE = 'client_credentials'\n",
    "\n",
    "\n",
    "# Defaults for our simple example.\n",
    "DEFAULT_TERM = 'restaurants'\n",
    "DEFAULT_LOCATION = 'Singapore'\n",
    "SEARCH_LIMIT = 50\n",
    "\n",
    "# Categories of restaurant\n",
    "CATEGORIES = [\"Singaporean\", \"French\", \"Japanese\", \"Korean\",\"indpak\"]"
   ]
  },
  {
   "cell_type": "code",
   "execution_count": 70,
   "metadata": {
    "collapsed": true
   },
   "outputs": [],
   "source": [
    "def obtain_bearer_token(host, path):\n",
    "    \"\"\"Given a bearer token, send a GET request to the API.\n",
    "\n",
    "    Args:\n",
    "        host (str): The domain host of the API.\n",
    "        path (str): The path of the API after the domain.\n",
    "        url_params (dict): An optional set of query parameters in the request.\n",
    "\n",
    "    Returns:\n",
    "        str: OAuth bearer token, obtained using client_id and client_secret.\n",
    "\n",
    "    Raises:\n",
    "        HTTPError: An error occurs from the HTTP request.\n",
    "    \"\"\"\n",
    "    url = '{0}{1}'.format(host, quote(path.encode('utf8')))\n",
    "    assert CLIENT_ID, \"Please supply your client_id.\"\n",
    "    assert CLIENT_SECRET, \"Please supply your client_secret.\"\n",
    "    data = urlencode({\n",
    "        'client_id': CLIENT_ID,\n",
    "        'client_secret': CLIENT_SECRET,\n",
    "        'grant_type': GRANT_TYPE,\n",
    "    })\n",
    "    headers = {\n",
    "        'content-type': 'application/x-www-form-urlencoded',\n",
    "    }\n",
    "    response = requests.request('POST', url, data=data, headers=headers)\n",
    "    bearer_token = response.json()['access_token']\n",
    "    return bearer_token"
   ]
  },
  {
   "cell_type": "code",
   "execution_count": 71,
   "metadata": {
    "collapsed": true
   },
   "outputs": [],
   "source": [
    "def requestAPI(host, path, bearer_token, url_params=None):\n",
    "    \"\"\"Given a bearer token, send a GET request to the API.\n",
    "\n",
    "    Args:\n",
    "        host (str): The domain host of the API.\n",
    "        path (str): The path of the API after the domain.\n",
    "        bearer_token (str): OAuth bearer token, obtained using client_id and client_secret.\n",
    "        url_params (dict): An optional set of query parameters in the request.\n",
    "\n",
    "    Returns:\n",
    "        dict: The JSON response from the request.\n",
    "\n",
    "    Raises:\n",
    "        HTTPError: An error occurs from the HTTP request.\n",
    "    \"\"\"\n",
    "    #url_params = url_params or {}\n",
    "    #print (\"url_params are \" + str(url_params))\n",
    "    \n",
    "    url = '{0}{1}'.format(host, quote(path.encode('utf8')))\n",
    "    headers = {\n",
    "        'Authorization': 'Bearer %s' % bearer_token,\n",
    "    }\n",
    "\n",
    "    #print(u'Querying {0} ...'.format(url))\n",
    "\n",
    "    response = requests.request('GET', url, headers=headers, params=url_params)\n",
    "\n",
    "    return response.json()\n",
    "\n",
    "def search(bearer_token, term, location,category,offset):\n",
    "    \"\"\"Query the Search API by a search term and location.\n",
    "\n",
    "    Args:\n",
    "        term (str): The search term passed to the API.\n",
    "        location (str): The search location passed to the API.\n",
    "\n",
    "    Returns:\n",
    "        dict: The JSON response from the request.\n",
    "    \"\"\"\n",
    "\n",
    "    url_params = {\n",
    "        'term': term.replace(' ', '+'),\n",
    "        'location': location.replace(' ', '+'),\n",
    "        'limit': SEARCH_LIMIT,\n",
    "        'categories': category,\n",
    "        'sort_by': 'review_count',\n",
    "        'offset': offset\n",
    "    }\n",
    "    return requestAPI(API_HOST, SEARCH_PATH, bearer_token, url_params=url_params)"
   ]
  },
  {
   "cell_type": "code",
   "execution_count": 72,
   "metadata": {
    "collapsed": true
   },
   "outputs": [],
   "source": [
    "def get_business_reviews(bearer_token, business_id):\n",
    "    \"\"\"Query the Business REviews API by a business ID.\n",
    "\n",
    "    Args:\n",
    "        business_id (str): The ID of the business to query.\n",
    "\n",
    "    Returns:\n",
    "        dict: The JSON response from the request.\n",
    "    \"\"\"\n",
    "    business_path = BUSINESS_PATH + business_id + REVIEWS_PATH\n",
    "\n",
    "    return requestAPI(API_HOST, business_path, bearer_token)\n",
    "def query_api(bearer_token, term, location, category,offset):\n",
    "    \"\"\"Queries the API by the input values from the user.\n",
    "\n",
    "    Args:\n",
    "        term (str): The search term to query.\n",
    "        location (str): The location of the business to query.\n",
    "    \"\"\"\n",
    "    \n",
    "    \n",
    "    return search(bearer_token, term, location, category,offset)"
   ]
  },
  {
   "cell_type": "code",
   "execution_count": 73,
   "metadata": {
    "collapsed": true
   },
   "outputs": [],
   "source": [
    "if __name__ == '__main__':\n",
    "    bearer_token = obtain_bearer_token(API_HOST, TOKEN_PATH)\n",
    "    restaurants_by_category = defaultdict(list)\n",
    "    restaurant_reviews_count = defaultdict(int)\n",
    "    restaurant_reviews = defaultdict(list)\n",
    "    offset=0\n",
    "    # hit api for 10 items with offset 50 for each category\n",
    "    for category in CATEGORIES:\n",
    "          for i in range(10):\n",
    "              response = query_api(bearer_token,\"restaurants\",DEFAULT_LOCATION,category,offset)\n",
    "              for restaurant in response[\"businesses\"]:\n",
    "                if restaurant[\"review_count\"] > 2:\n",
    "                    restaurants_by_category[category].append(restaurant[\"id\"])\n",
    "          offset+=50\n",
    "\n",
    "\n",
    "    # unique restaurants\n",
    "    restaurants = []\n",
    "    for cat,restaurants_in_category in restaurants_by_category.items():\n",
    "        restaurants+=restaurants_in_category\n",
    "    restaurants = list(set(restaurants))\n",
    "\n",
    "    # get reviews for business\n",
    "    for restaurant in restaurants:\n",
    "        reviews = get_business_reviews(bearer_token,restaurant)\n",
    "        restaurant_reviews_count[restaurant] = reviews[\"total\"]\n",
    "        for review in reviews[\"reviews\"]:\n",
    "            restaurant_reviews[restaurant].append(review[\"text\"])\n"
   ]
  },
  {
   "cell_type": "code",
   "execution_count": 74,
   "metadata": {},
   "outputs": [
    {
     "name": "stderr",
     "output_type": "stream",
     "text": [
      "/usr/local/lib/python3.5/dist-packages/sklearn/base.py:315: UserWarning: Trying to unpickle estimator SVC from version 0.19.0 when using version 0.18.2. This might lead to breaking code or invalid results. Use at your own risk.\n",
      "  UserWarning)\n"
     ]
    }
   ],
   "source": [
    "# Change your path here\n",
    "folder_path = \"/home/ethi/ethi/nus/New_Media/Workshops/Data\"\n",
    "chdir(folder_path) \n",
    "\n",
    "classifier_svm = pk.load(open(\"classifier_svm.pk\", \"rb\"),encoding=\"latin-1\")\n",
    "trainset = pk.load(open(\"trainset.pk\",'rb'),encoding=\"latin-1\")\n",
    "\n",
    "def neg_tag(text):\n",
    "    transformed = re.sub(r\"\\b(?:never|nothing|nowhere|noone|none|not|haven't|hasn't|hasnt|hadn't|hadnt|can't|cant|couldn't|couldnt|shouldn't|shouldnt|won't|wont|wouldn't|wouldnt|don't|dont|doesn't|doesnt|didn't|didnt|isnt|isn't|aren't|arent|aint|ain't|hardly|seldom)\\b[\\w\\s]+[^\\w\\s]\", lambda match: re.sub(r'(\\s+)(\\w+)', r'\\1NEG_\\2', match.group(0)), text, flags=re.IGNORECASE)\n",
    "    return(transformed)\n",
    "\n",
    "\n",
    "# Create a training list which will now contain reviews with Negatively tagged words and their labels\n",
    "train_set_neg = []\n",
    "\n",
    "# Append elements to the list\n",
    "for doc in trainset:\n",
    "    trans = neg_tag(doc[0])\n",
    "    lab = doc[1]\n",
    "    train_set_neg.append([trans, lab])\n",
    "\n",
    "\n",
    "trainset = pk.load(open(\"trainset.pk\",'rb'),encoding=\"latin-1\")\n",
    "train_nolab = [t[0].encode(\"utf-8\") for t in train_set_neg]\n",
    "\n",
    "vectorizer = TfidfVectorizer()\n",
    "\n",
    "# this is used below for training the SVM\n",
    "train_vectors = vectorizer.fit_transform(train_nolab)\n"
   ]
  },
  {
   "cell_type": "code",
   "execution_count": 75,
   "metadata": {
    "collapsed": true
   },
   "outputs": [],
   "source": [
    "#get score for reviews\n",
    "def get_score(reviews):\n",
    "    reviews_text = reviews\n",
    "    reviews = list(map(neg_tag,reviews))\n",
    "    reviews = vectorizer.transform(reviews)\n",
    "    predSVM = classifier_svm.predict(reviews)\n",
    "    pred = list(predSVM)\n",
    "    pred = [-1 if i < 0 else 1 for i in pred]\n",
    "    scored_reviews = []\n",
    "    for i in range(len(reviews_text)):\n",
    "        scored_reviews.append({\"text\":reviews_text[i],\"score\":pred[i]})\n",
    "    return scored_reviews"
   ]
  },
  {
   "cell_type": "code",
   "execution_count": 76,
   "metadata": {
    "collapsed": true
   },
   "outputs": [],
   "source": [
    "# build json data\n",
    "def build_restaurant_data(restaurants):\n",
    "    restaurant_data = []\n",
    "    for restaurant in restaurants:\n",
    "        restaurant_data.append({\"name\": restaurant,\n",
    "                                \"nb_reviews\": restaurant_reviews_count[restaurant],\n",
    "                                \"reviews\":get_score(restaurant_reviews[restaurant])})\n",
    "    return restaurant_data \n",
    "json_data = {}\n",
    "for category, restaurants in restaurants_by_category.items():\n",
    "    json_data[category] = build_restaurant_data(restaurants)"
   ]
  },
  {
   "cell_type": "code",
   "execution_count": 66,
   "metadata": {
    "collapsed": true
   },
   "outputs": [],
   "source": [
    "# Json Dump to file\n",
    "result = json.dumps(json_data,indent=2, sort_keys=True)\n",
    "with open('day2.json', 'w') as outfile:\n",
    "    json.dump(result, outfile)"
   ]
  }
 ],
 "metadata": {
  "kernelspec": {
   "display_name": "Python 3",
   "language": "python",
   "name": "python3"
  },
  "language_info": {
   "codemirror_mode": {
    "name": "ipython",
    "version": 3
   },
   "file_extension": ".py",
   "mimetype": "text/x-python",
   "name": "python",
   "nbconvert_exporter": "python",
   "pygments_lexer": "ipython3",
   "version": "3.6.1"
  }
 },
 "nbformat": 4,
 "nbformat_minor": 2
}
