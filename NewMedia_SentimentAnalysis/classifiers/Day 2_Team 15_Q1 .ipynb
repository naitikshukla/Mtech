{
 "cells": [
  {
   "cell_type": "code",
   "execution_count": 31,
   "metadata": {
    "collapsed": true
   },
   "outputs": [],
   "source": [
    "from os import getcwd, chdir\n",
    "import re\n",
    "import numpy as np\n",
    "import pickle as pk\n",
    "import pandas as pd\n",
    "\n",
    "from nltk.metrics import ConfusionMatrix\n",
    "from nltk.classify import NaiveBayesClassifier, MaxentClassifier\n",
    "from nltk.classify import accuracy\n",
    "from nltk.tokenize import word_tokenize as wt\n",
    "\n",
    "from sklearn.svm import SVC\n",
    "from sklearn.feature_extraction.text import TfidfVectorizer\n",
    "from sklearn.naive_bayes import MultinomialNB\n",
    "from sklearn.feature_selection import SelectKBest\n",
    "from sklearn.tree import DecisionTreeClassifier\n",
    "from sklearn.neighbors import KNeighborsClassifier\n",
    "from sklearn.feature_selection import chi2\n",
    "from sklearn.metrics import classification_report\n",
    "from sklearn.metrics import confusion_matrix\n",
    "from sklearn import preprocessing\n",
    "from sklearn import metrics\n",
    "from sklearn.feature_selection import SelectKBest\n",
    "from sklearn.metrics import accuracy_score\n",
    "\n",
    "# Change your path here\n",
    "folder_path = \"/home/ethi/ethi/nus/New_Media/Workshops/Data\"\n",
    "chdir(folder_path) \n",
    "\n",
    "trainset = pk.load(open(\"trainset.pk\",'rb'),encoding=\"latin-1\")\n",
    "testset = pk.load(open(\"testset.pk\",'rb'),encoding=\"latin-1\")"
   ]
  },
  {
   "cell_type": "markdown",
   "metadata": {
    "collapsed": true
   },
   "source": [
    "Tokenize the data. The NLTK classifiers generally use a dict. To be able to use these classifiers, we use a mapping function written below. This mapping function \"word_feats\" then transfrom the test and training sets into a structure that can be used by the NLTK classifiers."
   ]
  },
  {
   "cell_type": "code",
   "execution_count": 32,
   "metadata": {
    "collapsed": true
   },
   "outputs": [],
   "source": [
    "train_tokenized = [[wt(x), c] for x,c in trainset]\n",
    "test_tokenized  = [[wt(x), c] for x,c in testset]\n",
    "\n",
    "def word_feats(words):\n",
    "    return dict([(word, True) for word in words])\n",
    "train_featureset = [(word_feats(d), c) for (d,c) in train_tokenized]\n",
    "test_featureset  = [(word_feats(d), c) for (d,c) in test_tokenized]"
   ]
  },
  {
   "cell_type": "markdown",
   "metadata": {
    "collapsed": true
   },
   "source": [
    "### Naive Bayes Classifier\n",
    "The Naive Bayes classifier uses Bayes rule to generate the conditional probabilties of each class occuring depending on the word features. It is a _generative classifier_ (in that it generates such conditional probabilities. In the generation of such conditional probabilities, it also considers independence amongst the word features. In other words, it does not consider sentence structure nor word order. A key advantage of Naive Bayes is its computational efficiency. The sklearn function below MultinomialNB() uses a slightly different algorithm in that it considers the frequency of the word count which the Naive Bayes doesn not. Would this feature be helpful in sentiment classification?\n",
    "\n",
    "#### Classification criteria\n",
    "$$\n",
    " \\begin{align}\n",
    "  \\hat{y} =& \\underset{k\\in \\{1, \\ldots , K\\}}{argmax} \\quad \\underbrace{p(C_k)}_{prior\\ prob} \\Pi^n_{i=1} \\underbrace{p(x_i | C_k)}_{conditional\\ prob}  \\\\  \\\\\n",
    "   =& \\underset{k\\in \\{1, \\ldots , K\\}}{argmax} \\quad log (p(C_k))  \\sum^n_{i=1} log\\ p(x_i | C_k) \n",
    "  \\end{align}\n",
    "$$\n",
    "Each of the k refers to a class. In this case, there are only two classes - positive and negative sentiment.The $p(C_k)$ are prior probabilities. In layman's terms, Naive Bayes Classifier classifies the _test document_ to the class with the highest probability. This is a recurring theme in sentiment analysis classifier.\n",
    "\n",
    "For eg, the multinomial Naive Bayes differs only in the computation of the $p(x_i | C_k)$. Later we see that the MaxEnt uses a weighted probability form."
   ]
  },
  {
   "cell_type": "code",
   "execution_count": 33,
   "metadata": {},
   "outputs": [
    {
     "name": "stdout",
     "output_type": "stream",
     "text": [
      "Accuracy :0.7400315831030398\n",
      "Most Informative Features\n",
      "                   ramen = True               -1 : 1      =     40.9 : 1.0\n",
      "              flavorless = True               -1 : 1      =     38.5 : 1.0\n",
      "            unacceptable = True               -1 : 1      =     32.4 : 1.0\n",
      "                  rudely = True               -1 : 1      =     28.5 : 1.0\n",
      "                  brazil = True               -1 : 1      =     26.8 : 1.0\n",
      "               redeeming = True               -1 : 1      =     24.5 : 1.0\n",
      "               poisoning = True               -1 : 1      =     24.2 : 1.0\n",
      "              microwaved = True               -1 : 1      =     24.0 : 1.0\n",
      "                   worst = True               -1 : 1      =     23.6 : 1.0\n",
      "               disgusted = True               -1 : 1      =     23.4 : 1.0\n",
      "              disgusting = True               -1 : 1      =     22.5 : 1.0\n",
      "               tasteless = True               -1 : 1      =     21.2 : 1.0\n",
      "                     ugh = True               -1 : 1      =     20.7 : 1.0\n",
      "                     vig = True               -1 : 1      =     20.6 : 1.0\n",
      "                  inform = True               -1 : 1      =     20.6 : 1.0\n",
      "   |    -      |\n",
      "   |    1    1 |\n",
      "---+-----------+\n",
      "-1 |<2861> 578 |\n",
      " 1 |  205<1422>|\n",
      "---+-----------+\n",
      "(row = reference; col = test)\n",
      "\n"
     ]
    }
   ],
   "source": [
    "## Naive Bayes Rule using nltk\n",
    "classifier_nb = NaiveBayesClassifier.train(train_featureset)\n",
    "print(\"Accuracy :\" +str(accuracy(classifier_nb, test_featureset)))\n",
    "classifier_nb.show_most_informative_features(15)\n",
    "\n",
    "## Preparing the data first for sklearn\n",
    "train_nolab = [t[0].encode(\"utf-8\") for t in trainset]\n",
    "test_nolab = [t[0].encode(\"utf-8\") for t in testset]\n",
    "\n",
    "train_lab = [t[1] for t in trainset]\n",
    "test_lab = [t[1] for t in testset]\n",
    "# Create your Vectorizer function\n",
    "vectorizer = TfidfVectorizer()\n",
    "# Create TF-IDF Vectorizer from your training features\n",
    "train_vectors = vectorizer.fit_transform(train_nolab)\n",
    "\n",
    "# Transform your test features to fit your already trained TF-IDF\n",
    "test_vectors = vectorizer.transform(test_nolab)\n",
    "\n",
    "## Naive Bayes Rule using sklearn\n",
    "clf = MultinomialNB().fit(train_vectors, train_lab)\n",
    "predNB = clf.predict(test_vectors)\n",
    "pred = list(predNB)\n",
    "cm = ConfusionMatrix(pred, test_lab)\n",
    "print (cm)"
   ]
  },
  {
   "cell_type": "markdown",
   "metadata": {},
   "source": [
    "The most informative features shows the 'key' words that appear more in the positive reviews than the positive reviews. For eg., for the trainset, the most informative classifier is the 'ramen' which for every one bad review, appears in 40.8 positive reviews. Can you do the same for the test_featureset? What is the most informative feature instead? Had you used 'alike' corpus, the accuracy would have been higher.\n",
    "\n",
    "In this simple demonstration, you observe the importance of the training corpus. Notice that 'ramen' is a noun. Some corpus like to consider only 'non-subjective' nouns or only adjective and verbs to label texts. There is no right or wrong answer here. There are many things that are not considered in this naive Bayes classifier such as 'word senses', which are found in  the WordNet.\n",
    "\n",
    "We next test the Naive Bayes classifier on the test_featureset itself. Can you calculate the precision and recall in this case? "
   ]
  },
  {
   "cell_type": "code",
   "execution_count": 34,
   "metadata": {},
   "outputs": [
    {
     "name": "stdout",
     "output_type": "stream",
     "text": [
      "   |    -      |\n",
      "   |    1    1 |\n",
      "---+-----------+\n",
      "-1 |<3016>1267 |\n",
      " 1 |   50 <733>|\n",
      "---+-----------+\n",
      "(row = reference; col = test)\n",
      "\n"
     ]
    }
   ],
   "source": [
    "predictions_nb = []\n",
    "actuals    = [t[1] for t in test_featureset]\n",
    "\n",
    "test_nolab = [t[0] for t in test_featureset]\n",
    "\n",
    "for t in test_nolab:\n",
    "    predictions_nb.append(classifier_nb.classify(t))\n",
    "    \n",
    "cm = ConfusionMatrix(predictions_nb, actuals)\n",
    "print (cm)"
   ]
  },
  {
   "cell_type": "markdown",
   "metadata": {},
   "source": [
    "### Maximum Entropy Classifier (MaxEnt)\n",
    "\n",
    "This classifier takes 1-2 hours for training. We use a pickled version for classification. The Maximum entropy classifier is a discriminative classifier in that it looks at the entire dataset and uses a model (normally via optimisation) with parameters to map (_classify_) labels. As such, it is more computationally intensive than the Naive Bayes. Due to the model, it also does not assume conditional independence amongst the different word features. When is a good time to use the MaxEnt model? When little information is known about the prior distribution. Refer back to the excel sheet where this prior distribution comes about.\n",
    "\n",
    "#### Algorithm\n",
    "The MaxEnt classifier is similar to the Naive Bayes classifier except for a different form of the probability function. It uses instead the _empirical_ distribution - which assumes the least known about the prior distribution. This is in accordance to the Principle of Max Entropy.\n",
    "\n",
    "$$ \n",
    "  P(c|d,\\lambda) = \\frac{exp\\sum_i\\lambda_i f_i (c,d)}{\\sum_{c'\\in C}exp\\sum_i \\underbrace{f_i(c',d)}}_{empirical\\ distribution}\n",
    "$$\n",
    "\n",
    "The empirical _joint_ distribution is obtained for each word $w$ and class $c\\in C$ as $f(w,c) = \\frac{x}{N}$. Here $x$ is the number of times that $w$ occurs in a document of class $c$ and $N$ is the total no of train set. The $\\lambda_i$'s are obtained via optimisation in a trained model for each word $w$. This is performed in the code below."
   ]
  },
  {
   "cell_type": "code",
   "execution_count": 35,
   "metadata": {},
   "outputs": [
    {
     "name": "stdout",
     "output_type": "stream",
     "text": [
      "0.4281484405842874\n"
     ]
    }
   ],
   "source": [
    "#classifier1 = nltk.MaxentClassifier.train(train_featureset, algorithm=\"IIS\", max_iter=2) \n",
    "# IIS - improved iterative scaling - optimisation algorithm\n",
    "#pk.dump(classifier_me, open(\"maxent.pk\",\"wb\"))\n",
    "# pickle the classifier\n",
    "classifier_me = pk.load(open(\"maxent.pk\",\"rb\"),encoding='latin-1')\n",
    "print(accuracy(classifier_me, test_featureset))"
   ]
  },
  {
   "cell_type": "code",
   "execution_count": 36,
   "metadata": {},
   "outputs": [
    {
     "name": "stdout",
     "output_type": "stream",
     "text": [
      "   |    -      |\n",
      "   |    1    1 |\n",
      "---+-----------+\n",
      "-1 | <185>  16 |\n",
      " 1 | 2881<1984>|\n",
      "---+-----------+\n",
      "(row = reference; col = test)\n",
      "\n"
     ]
    }
   ],
   "source": [
    "predictions_me = []\n",
    "\n",
    "for t in test_nolab:\n",
    "    predictions_me.append(classifier_me.classify(t))\n",
    "\n",
    "cm = ConfusionMatrix(predictions_me, actuals)\n",
    "print(cm)"
   ]
  },
  {
   "cell_type": "markdown",
   "metadata": {},
   "source": [
    "What is the precision and recall/ accuracy of the Max Entropy classifier compared to the Naive Bayes classifier? Observe it is lower than the NB."
   ]
  },
  {
   "cell_type": "markdown",
   "metadata": {},
   "source": [
    "### Features - Negation:\n",
    "\n",
    "The negation feature is very important as it reverse the polarity of the reviews with 'positive' words. The method we use here is attributed to Satyajit Das - a very simple technique. It is to label the words with a suffix $_neg$ till the next punctuation symbol. This adds new features for classification.\n"
   ]
  },
  {
   "cell_type": "code",
   "execution_count": 37,
   "metadata": {},
   "outputs": [
    {
     "name": "stdout",
     "output_type": "stream",
     "text": [
      "I don't NEG_like NEG_that NEG_place NEG_you NEG_keep NEG_calling NEG_awesome.\n"
     ]
    }
   ],
   "source": [
    "def neg_tag(text):\n",
    "    transformed = re.sub(r\"\\b(?:never|nothing|nowhere|noone|none|not|haven't|hasn't|hasnt|hadn't|hadnt|can't|cant|couldn't|couldnt|shouldn't|shouldnt|won't|wont|wouldn't|wouldnt|don't|dont|doesn't|doesnt|didn't|didnt|isnt|isn't|aren't|arent|aint|ain't|hardly|seldom)\\b[\\w\\s]+[^\\w\\s]\", lambda match: re.sub(r'(\\s+)(\\w+)', r'\\1NEG_\\2', match.group(0)), text, flags=re.IGNORECASE)\n",
    "    return(transformed)\n",
    "\n",
    "text = \"I don't like that place you keep calling awesome.\"\n",
    "print(neg_tag(text))\n",
    "\n",
    "# Create a training list which will now contain reviews with Negatively tagged words and their labels\n",
    "train_set_neg = []\n",
    "\n",
    "# Append elements to the list\n",
    "for doc in trainset:\n",
    "    trans = neg_tag(doc[0])\n",
    "    lab = doc[1]\n",
    "    train_set_neg.append([trans, lab])\n",
    "\n",
    "# Create a testing list which will now contain reviews with Negatively tagged words and their labels\n",
    "test_set_neg = []\n",
    "\n",
    "# Append elements to the list\n",
    "for doc in testset:\n",
    "    trans = neg_tag(doc[0])\n",
    "    lab = doc[1]\n",
    "    test_set_neg.append([trans, lab])"
   ]
  },
  {
   "cell_type": "code",
   "execution_count": 38,
   "metadata": {},
   "outputs": [
    {
     "name": "stdout",
     "output_type": "stream",
     "text": [
      "['we eat here for lunch about twice a month (since 2010)  - always for sandwiches. we generally get the italian, and another. their chip selection is pretty limited though.', 1]\n"
     ]
    }
   ],
   "source": [
    "print(test_set_neg[0])"
   ]
  },
  {
   "cell_type": "markdown",
   "metadata": {},
   "source": [
    "###  Features - tf-idf:\n",
    "term-frequency - inverted document frequency.\n",
    "A tf-idf expresses a document as a sparse \"word-matrix\". The importance of a word is also dependent on how often it appears in the entire training set. By default, sklearn uses \"single\" words to form the tf-idf, but it is possible to specify bigrams, trigrams etc.; and also to specify bounds on the document-frequency.\n"
   ]
  },
  {
   "cell_type": "code",
   "execution_count": 39,
   "metadata": {},
   "outputs": [
    {
     "name": "stdout",
     "output_type": "stream",
     "text": [
      "Train matrix shape (20329, 43270)\n",
      "Test matrix shape (5066, 43270)\n"
     ]
    }
   ],
   "source": [
    "# Using tf-idf as features for training\n",
    "# sklearn library\n",
    "from sklearn.feature_extraction.text import TfidfVectorizer\n",
    "from sklearn.svm import SVC\n",
    "train_nolab = [t[0].encode(\"utf-8\") for t in train_set_neg]\n",
    "test_nolab = [t[0].encode(\"utf-8\") for t in test_set_neg]\n",
    "\n",
    "train_lab = [t[1] for t in train_set_neg]\n",
    "test_lab = [t[1] for t in test_set_neg]\n",
    "vectorizer = TfidfVectorizer()\n",
    "\n",
    "# this is used below for training the SVM\n",
    "train_vectors = vectorizer.fit_transform(train_nolab)\n",
    "test_vectors = vectorizer.transform(test_nolab)\n",
    "\n",
    "# Ascertain shape of the sparse matrix\n",
    "print (\"Train matrix shape \" + str(train_vectors.shape))\n",
    "print (\"Test matrix shape \" + str(test_vectors.shape))\n"
   ]
  },
  {
   "cell_type": "markdown",
   "metadata": {},
   "source": [
    "In the shape above, observe that there are 43270 \"word\" features and and 20329 documents in the train set. Vice versa, there are 5066 doucments in the test set. This is a relatively 'high-dimension' feature, which we use as an input to the SVM classifier. Observe some of the varied feature words below. "
   ]
  },
  {
   "cell_type": "code",
   "execution_count": 40,
   "metadata": {},
   "outputs": [
    {
     "name": "stdout",
     "output_type": "stream",
     "text": [
      "Word Features \n",
      "['cages', 'cai', 'caibatta', 'cain', 'caiparinha', 'caipirinha', 'caitlin', 'cajun', 'cajuny', 'cak', 'cake', 'cakebread', 'caked', 'cakes', 'cakey', 'cal', 'calabacitas', 'calabasas', 'calabassas', 'calabrese', 'calada', 'calaloo', 'calamansi', 'calamari', 'calazone', 'calcium', 'calculate', 'calculated', 'calculation', 'calculations', 'calculator', 'calculators', 'calculus', 'caldereta', 'caldo', 'calendar', 'calendars', 'calender', 'calenders', 'calgon', 'cali', 'caliber', 'calibrating', 'calico', 'caliente', 'calif', 'california', 'californian', 'californians', 'calimari']\n"
     ]
    }
   ],
   "source": [
    "print(\"Word Features \")\n",
    "print(vectorizer.get_feature_names()[5000:5050])\n",
    "termperdoc = vectorizer.inverse_transform(vectorizer.get_feature_names()[5000:5050])\n"
   ]
  },
  {
   "cell_type": "code",
   "execution_count": 41,
   "metadata": {},
   "outputs": [
    {
     "name": "stderr",
     "output_type": "stream",
     "text": [
      "/usr/local/lib/python3.5/dist-packages/sklearn/base.py:315: UserWarning: Trying to unpickle estimator SVC from version 0.19.0 when using version 0.18.2. This might lead to breaking code or invalid results. Use at your own risk.\n",
      "  UserWarning)\n"
     ]
    },
    {
     "name": "stdout",
     "output_type": "stream",
     "text": [
      "   |    -      |\n",
      "   |    1    1 |\n",
      "---+-----------+\n",
      "-1 |<2738> 198 |\n",
      " 1 |  328<1802>|\n",
      "---+-----------+\n",
      "(row = reference; col = test)\n",
      "\n",
      "             precision    recall  f1-score   support\n",
      "\n",
      "         -1       0.89      0.93      0.91      2936\n",
      "          1       0.90      0.85      0.87      2130\n",
      "\n",
      "avg / total       0.90      0.90      0.90      5066\n",
      "\n"
     ]
    }
   ],
   "source": [
    "# SVM Classifier from sklearn\n",
    "def train_svm(X, y):\n",
    "    \"\"\"\n",
    "    Create and train the Support Vector Machine.\n",
    "    \"\"\"\n",
    "    svm = SVC(C=10000.0, gamma='auto', kernel='rbf')\n",
    "    svm.fit(X, y)\n",
    "    return svm\n",
    "\n",
    "# Pickled model as it takes ahwile for generation\n",
    "# classifier_svm = train_svm(train_vectors, train_lab)\n",
    "# pk.dump(classifier_svm, open(\"classifier_svm.pk\",\"wb\"))\n",
    "classifier_svm = pk.load(open(\"classifier_svm.pk\", \"rb\"),encoding=\"latin-1\")\n",
    "predSVM = classifier_svm.predict(test_vectors)\n",
    "pred = list(predSVM)\n",
    "cm = ConfusionMatrix(pred, test_lab)\n",
    "print(cm)\n",
    "print(classification_report(pred,  test_lab))"
   ]
  },
  {
   "cell_type": "code",
   "execution_count": 42,
   "metadata": {},
   "outputs": [],
   "source": [
    "# #write predicted result to file\n",
    "# test_file  = pd.read_csv(folder_path+\"/test.csv\")\n",
    "# test_file[\"score\"] =pred\n",
    "# test_file.to_csv(\"test_scored.csv\")"
   ]
  },
  {
   "cell_type": "code",
   "execution_count": 50,
   "metadata": {},
   "outputs": [],
   "source": [
    " d = {'text': test_nolab, 'label': test_lab, 'score': pred}\n",
    "df = pd.DataFrame(data=d)\n",
    "df.to_csv(\"test_scored.csv\")\n"
   ]
  },
  {
   "cell_type": "markdown",
   "metadata": {},
   "source": [
    "### More on the SVM Classifier\n",
    "\n",
    "The SVM classifier is a linear non-probabilitic classifer often used in NLP. It is a non-praobilistics in that it doesnt premise on conditional probability, unlike the Naive Bayes nor Maximum Entropy. It works on the principle of some support vectors which help to define optimal hyperplanes. Not all the feature points are needed to define the support vector. In a way only the most informative feature points help to define the support vector which makes the SVM ideal for high-dimensional classification and sparse matrics common in NLP. The SVM also works on feature points that are not linearly separable through kernel transformation of the feature points.\n",
    "The SVM solves a constrained optimisation to define this optimal hyperplane. As you can see in the figure below, this optimal hyperplane has the maximum margin between the support features. The optimisation equation is \n",
    "$$ \\begin{align}\n",
    "   \\underset{\\gamma, w, b}{max} \\quad &\\gamma \\\\\n",
    "      s.t. \\quad & y^{(i)}( w^T x^{(i)} + b)  \\geq \\gamma, \\quad i=1,\\cdots,m \\\\\n",
    "       & ||w|| \\equiv 1\n",
    "   \\end{align}\n",
    "$$\n",
    "Here $w^T$ is the coefficient for each feature and $b$ is a constant. $y^{(i)}$ is the training label - 1 or 0, and $\\gamma$ is the margin (distance from the optimal hyperplane)."
   ]
  },
  {
   "cell_type": "code",
   "execution_count": 3,
   "metadata": {},
   "outputs": [
    {
     "data": {
      "image/png": "[encoded data removed]",
      "text/plain": [
       "<IPython.core.display.Image object>"
      ]
     },
     "execution_count": 3,
     "metadata": {
      "image/png": {
       "height": 300,
       "width": 300
      }
     },
     "output_type": "execute_result"
    }
   ],
   "source": [
    "from IPython.display import Image\n",
    "Image(filename='svm.PNG', width=300, height=300)"
   ]
  },
  {
   "cell_type": "markdown",
   "metadata": {},
   "source": [
    "### k-NN Classifier \n",
    "The k-NN classifier is a unsupervised classifier that looks at the similarity measures between training samples and the test samples. It filters out the $k$ nearest neighbour (which are labelled) and accords weights to these neighbours according to their similarity measures. Different similarity measures are used - but the most popular one is cosine similarity or the simple euclidean. Sometimes, the Hamming distance is used for boolean variables.\n",
    "$$\n",
    "\\begin{align}\n",
    "  &\\text{Euclidean distance}& \\quad \\sqrt{\\sum^k_{i=1} (x_i-y_i)^2}  \\\\\n",
    "  &\\text{Cosine distance}& \\quad \\frac{\\sum^n_{i=1} A_i B_i}{\\sqrt{\\sum^n_{i=1} A_i^2} \\sqrt{\\sum^n_{i=1} B_i^2}}\n",
    " \\end{align}\n",
    "$$\n",
    "\n",
    "In the code below, the $k$ neighbours are weighted by an inverse of the distance. Note the workout in the excel sheet how the calculation is done for an intuitive feel. What happens if you use a different measure or different $k$ or even frequency/ count (which the k-NN doesn't specify."
   ]
  },
  {
   "cell_type": "code",
   "execution_count": 39,
   "metadata": {},
   "outputs": [
    {
     "name": "stdout",
     "output_type": "stream",
     "text": [
      "   |    -      |\n",
      "   |    1    1 |\n",
      "---+-----------+\n",
      "-1 |<2536> 395 |\n",
      " 1 |  530<1605>|\n",
      "---+-----------+\n",
      "(row = reference; col = test)\n",
      "\n"
     ]
    }
   ],
   "source": [
    "# k-nn classifier\n",
    "\n",
    "def train_knn(X, y, k, weight):\n",
    "    \"\"\"\n",
    "    Create and train the k-nearest neighbor.\n",
    "    \"\"\"\n",
    "    knn = KNeighborsClassifier(n_neighbors = k, weights = weight, metric = 'cosine', algorithm = 'brute')\n",
    "    knn.fit(X, y)\n",
    "    return knn\n",
    "\n",
    "kn = train_knn(train_vectors, train_lab, 20, 'distance')# distance weights - by inverse of distance\n",
    "predKN = kn.predict(test_vectors)\n",
    "pred = list(predKN)\n",
    "cm = ConfusionMatrix(pred, test_lab)\n",
    "print(cm)"
   ]
  },
  {
   "cell_type": "markdown",
   "metadata": {},
   "source": [
    "### Decision-Tree Classifier\n",
    "\n",
    "The decision tree classifier is not often used in sentiment classification, and will not be discussed much here. One reason for this is it takes the most informative features (from the training set) and uses it in sequential splitting of the 'decision tree'. Compared to the Naive Bayes, it does not even consider the conditional distribution of the test set for classification."
   ]
  },
  {
   "cell_type": "code",
   "execution_count": 40,
   "metadata": {},
   "outputs": [
    {
     "name": "stdout",
     "output_type": "stream",
     "text": [
      "   |    -      |\n",
      "   |    1    1 |\n",
      "---+-----------+\n",
      "-1 |<2275> 358 |\n",
      " 1 |  791<1642>|\n",
      "---+-----------+\n",
      "(row = reference; col = test)\n",
      "\n"
     ]
    }
   ],
   "source": [
    "# sklearn\n",
    "def train_dtc(X, y):\n",
    "    \"\"\"\n",
    "    Create and train the Decision Tree Classifier.\n",
    "    \"\"\"\n",
    "    dtc = DecisionTreeClassifier()\n",
    "    dtc.fit(X, y)\n",
    "    return dtc\n",
    "\n",
    "dt = train_dtc(train_vectors, train_lab)\n",
    "predDT = dt.predict(test_vectors)\n",
    "pred = list(predDT)\n",
    "cm = ConfusionMatrix(pred, test_lab)\n",
    "print(cm)\n"
   ]
  },
  {
   "cell_type": "markdown",
   "metadata": {},
   "source": [
    "### Selection on k-best features\n",
    "\n",
    "This particular considers only the k-best (most informative) features to use for training. We use it to re-train the SCM model and the naive bayes model."
   ]
  },
  {
   "cell_type": "code",
   "execution_count": 42,
   "metadata": {},
   "outputs": [
    {
     "name": "stdout",
     "output_type": "stream",
     "text": [
      "[[2714  202]\n",
      " [ 352 1798]]\n",
      "0.890643505724\n",
      "             precision    recall  f1-score   support\n",
      "\n",
      "         -1       0.89      0.93      0.91      2916\n",
      "          1       0.90      0.84      0.87      2150\n",
      "\n",
      "avg / total       0.89      0.89      0.89      5066\n",
      "\n"
     ]
    }
   ],
   "source": [
    "ch21 = SelectKBest(chi2, k=5000)\n",
    "# Transform your training and testing datasets accordingly\n",
    "train_Kbest = ch21.fit_transform(train_vectors, train_lab)\n",
    "test_Kbest = ch21.transform(test_vectors)\n",
    "\n",
    "# Train your SVM with the k best selected features\n",
    "sv = train_svm(train_Kbest, train_lab)\n",
    "predSVM= sv.predict(test_Kbest)\n",
    "pred = list(predSVM)\n",
    "cm = confusion_matrix(pred, test_lab)\n",
    "print(cm)\n",
    "print(accuracy_score(pred, test_lab))\n",
    "print(classification_report(pred,  test_lab))"
   ]
  },
  {
   "cell_type": "markdown",
   "metadata": {},
   "source": [
    "Further, print out the most informative features."
   ]
  },
  {
   "cell_type": "code",
   "execution_count": 46,
   "metadata": {},
   "outputs": [
    {
     "name": "stdout",
     "output_type": "stream",
     "text": [
      "[[2774  355]\n",
      " [ 292 1645]]\n",
      "0.872285827083\n",
      "             precision    recall  f1-score   support\n",
      "\n",
      "         -1       0.90      0.89      0.90      3129\n",
      "          1       0.82      0.85      0.84      1937\n",
      "\n",
      "avg / total       0.87      0.87      0.87      5066\n",
      "\n",
      "['00', '05', '10', '10min', '10pm', '11', '116', '12', '13', '14', '15', '16', '17', '18', '1992', '19th', '1hr', '1lb', '20', '2007', '2014', '25', '29', '2lb', '30', '30p', '33', '350', '350lbs', '36', '3x', '40', '45', '46', '48', '49ers', '4stars', '50', '545', '55', '59', '59th', '5pm', '600', '6055', '6ish', '70s', '78', '79', '80', '84', '86', '8am', '99', '9pm', 'a16', 'aaaah', 'aaron', 'abay', 'aber', 'able', 'about', 'absent', 'absolute', 'absolutely', 'absurd', 'abt', 'abysmal', 'acceptable', 'accommodated', 'accommodating', 'accomodated', 'ache', 'aches', 'achieve', 'acidic', 'acknowledge', 'acknowledged', 'acknowledgement', 'act', 'acted', 'acting', 'actions', 'actors', 'acts', 'actual', 'actually', 'addicted', 'addicting', 'addictive', 'additional', 'additions', 'addressed', 'adds', 'adequate', 'adjacent', 'adjustment', 'adobo', 'adorable', 'adore', 'adovada', 'ads', 'adults', 'advance', 'adventure', 'adventures', 'adventurous', 'advertise', 'advertised', 'advertisement', 'advertising', 'advice', 'advise', 'affordable', 'afortable', 'afraid', 'after', 'afternoons', 'afterthought', 'afterward', 'ag', 'aggressive', 'agreed', 'agreement', 'ah', 'ahead', 'ahhh', 'ahi', 'ahmazing', 'airports', 'akin', 'aladdin', 'alaskan', 'albacore', 'alexions', 'alkies', 'ally', 'almond', 'almonds', 'almost', 'alone', 'along', 'aloof', 'alright', 'also', 'alternatives', 'alto', 'alu', 'alway', 'always', 'amateur', 'amaze', 'amazeballs', 'amazing', 'amazingly', 'ambiance', 'ambience', 'amel', 'america', 'americano', 'amigos', 'among', 'amusing', 'an', 'anal', 'and', 'andouille', 'andy', 'anemic', 'angel', 'angelo', 'anger', 'angie', 'angry', 'angus', 'anna', 'annoyance', 'annoyed', 'annoying', 'annual', 'another', 'answered', 'anthem', 'anthony', 'anti', 'antipasto', 'anuthentic', 'anxiously', 'anymore', 'anything', 'anytime', 'anywhere', 'apache', 'apart', 'apathetic', 'apizza', 'apologetic', 'apologies', 'apologize', 'apologized', 'apologizing', 'apology', 'appalled', 'appalling', 'apparent', 'apparently', 'appealing', 'appeared', 'appears', 'appetito', 'appetizer', 'appetizers', 'appetizing', 'applauds', 'applebee', 'applied', 'approached', 'approval', 'approved', 'apricot', 'archie', 'are', 'area', 'arguably', 'argued', 'arguing', 'arizona', 'armadillo', 'aroma', 'aromatic', 'array', 'arriba', 'arrived', 'arrogant', 'artichokes', 'artificial', 'artistry', 'arugula', 'as', 'asia', 'asian', 'ask', 'asked', 'asking', 'asks', 'assistant', 'assortment', 'assume', 'assumed', 'assuming', 'assured', 'asu', 'at', 'ate', 'atl', 'atmosphere', 'atrocious', 'attack', 'attempt', 'attempted', 'attempts', 'attention', 'attentive', 'attitude', 'attitudes', 'attractive', 'auch', 'auf', 'australia', 'authentic', 'authentically', 'authenticate', 'auto', 'avail', 'average', 'avocados', 'avoid', 'avoided', 'aw', 'award', 'awards', 'away', 'aweful', 'awesome', 'awesomely', 'awful', 'awfully', 'awkward', 'awkwardly', 'awsome', 'ayce', 'az', 'babbo', 'bacchanal', 'back', 'bacon', 'bad', 'bada', 'badger', 'badly', 'baffled', 'bag', 'bagel', 'bagels', 'bagged', 'baguette', 'bait', 'baja', 'baked', 'baker', 'bakeries', 'bakers', 'bakery', 'balance', 'balanced', 'bald', 'ballantyne', 'balls', 'bally', 'banana', 'bananas', 'band', 'bangers', 'bangkok', 'banh', 'bannanas', 'banned', 'barbeque', 'bare', 'barely', 'barf', 'bargain', 'barros', 'bars', 'bart', 'bartender', 'basic', 'basically', 'basil', 'basmati', 'bass', 'batali', 'batch', 'bathroom', 'bbb', 'bbq', 'bc', 'be', 'beard', 'beat', 'beaten', 'beats', 'beautiful', 'beautifully', 'beauty', 'became', 'because', 'become', 'becoming', 'beef', 'before', 'begging', 'begin', 'behavior', 'behind', 'being', 'believer', 'bell', 'bellagio', 'belly', 'belongs', 'below', 'belushi', 'benefit', 'beppo', 'berry', 'best', 'better', 'betting', 'beyond', 'bharta', 'bialy', 'bialys', 'bianca', 'bianco', 'biancos', 'biancoverde', 'bibingkahan', 'biggest', 'bill', 'billed', 'biltmore', 'bin', 'birds', 'biriyani', 'birthdays', 'biryani', 'biscotti', 'bitch', 'bites', 'bitter', 'biz', 'bj', 'bla', 'blah', 'blamed', 'bland', 'blanket', 'blaring', 'blatantly', 'blazin', 'blazing', 'blech', 'bleeding', 'bleh', 'blew', 'bliss', 'blonde', 'bloody', 'bloomfield', 'blueberry', 'bluenose', 'blues', 'blvd', 'boar', 'bogo', 'boiled', 'boiling', 'bold', 'bomb', 'bon', 'boneless', 'bones', 'bonus', 'boo', 'booked', 'booooo', 'booth', 'bordering', 'borderline', 'borg', 'boring', 'both', 'bother', 'bothered', 'bothering', 'bothers', 'bottled', 'bottles', 'bottom', 'bought', 'bounced', 'bouncer', 'bourdain', 'bowl', 'bowls', 'box', 'boy', 'boyardee', 'braddock', 'braised', 'branzino', 'brasil', 'brasseurs', 'bravo', 'brazil', 'brazilian', 'brazillian', 'breading', 'breads', 'breadstick', 'breadth', 'bready', 'breakfast', 'breast', 'brick', 'brisk', 'brisket', 'broccolini', 'broiled', 'broke', 'broken', 'broom', 'broth', 'brothers', 'brought', 'brownie', 'browns', 'bruegger', 'brueggers', 'brulee', 'brunch', 'bruschetta', 'bubba', 'bubble', 'buca', 'bucks', 'bueno', 'buffet', 'buffets', 'bug', 'bugs', 'bulgogi', 'bulletproof', 'bullsh', 'bummed', 'bummer', 'bun', 'buns', 'burg', 'burger', 'burgers', 'burgh', 'burke', 'burmese', 'burned', 'burning', 'burnt', 'burrata', 'burrito', 'burros', 'bursting', 'bus', 'business', 'bussing', 'but', 'butter', 'butterfat', 'butternut', 'butters', 'buttery', 'butts', 'buy', 'buyer', 'buying', 'bww', 'bye', 'bypass', 'cab', 'cabbie', 'cabs', 'caesar', 'cafeteria', 'caked', 'calaloo', 'calamari', 'calendar', 'california', 'called', 'calm', 'calorie', 'calories', 'calzone', 'calzones', 'camarones', 'came', 'camelback', 'campaign', 'camper', 'campus', 'campustown', 'can', 'canasta', 'cancel', 'canned', 'cannoli', 'cannolis', 'canolis', 'canonita', 'cant', 'canyon', 'capital', 'capitol', 'caprese', 'capriotti', 'capt', 'carb', 'card', 'cardboard', 'cardinals', 'cards', 'careful', 'careless', 'carl', 'carls', 'carmel', 'carnes', 'carnival', 'carpaccio', 'cartilage', 'cartwright', 'cartwrights', 'casa', 'case', 'cashew', 'cashier', 'cashiers', 'casino', 'casual', 'catch', 'caterpillar', 'catfish', 'caught', 'cause', 'causing', 'caviar', 'cavier', 'cayenne', 'cb', 'ceaser', 'celebrated', 'celebrating', 'celebration', 'celebrations', 'celebratory', 'celebrities', 'celebs', 'cellar', 'cement', 'center', 'central', 'cents', 'cereals', 'cha', 'chagning', 'chai', 'chairs', 'chamber', 'chambord', 'champagne', 'champaign', 'chance', 'chances', 'chang', 'change', 'changed', 'channels', 'chao', 'characters', 'charbroiled', 'charge', 'charged', 'charges', 'charging', 'charleston', 'charlestons', 'charlie', 'charming', 'charts', 'chashu', 'chat', 'chatting', 'chealsea', 'cheaper', 'check', 'checker', 'checks', 'cheddar', 'chee', 'cheers', 'cheery', 'cheeseboard', 'cheeseburgers', 'cheeses', 'chefs', 'cheladas', 'chelsea', 'chengdu', 'cherry', 'chese', 'chevron', 'chewy', 'chianti', 'chicago', 'chick', 'chicks', 'chilaquilles', 'chile', 'chilean', 'chili', 'chill', 'chills', 'chinatown', 'chinese', 'chipotle', 'chips', 'chocolate', 'choice', 'choke', 'chongqing', 'choose', 'chop', 'chowhound', 'chris', 'chu', 'churns', 'churrascaria', 'churrascarias', 'chutima', 'chz', 'cibo', 'cigarette', 'cigarettes', 'cinnamon', 'circa', 'circumstances', 'circus', 'citrus', 'city', 'ck', 'claim', 'claiming', 'clarification', 'class', 'classic', 'classy', 'claws', 'clean', 'cleaning', 'clear', 'clearing', 'clearly', 'climbing', 'closed', 'clothes', 'clue', 'clueless', 'clumped', 'cmu', 'coach', 'coast', 'coated', 'cobb', 'cockroach', 'coconut', 'coctel', 'cody', 'coffeehouse', 'cognac', 'coincidence', 'coke', 'cold', 'coleslaw', 'colony', 'color', 'columbia', 'combination', 'come', 'comedor', 'comfort', 'comfortable', 'comfortably', 'comfy', 'comic', 'comida', 'coming', 'comment', 'comments', 'commerce', 'commercials', 'commit', 'common', 'communication', 'community', 'comp', 'compares', 'comped', 'compensation', 'competes', 'competitor', 'comping', 'complained', 'complaining', 'complaint', 'complaints', 'complement', 'complemented', 'complements', 'complete', 'completely', 'complex', 'compliment', 'complimentary', 'complimented', 'compliments', 'comprehensive', 'con', 'concept', 'concepts', 'concern', 'concierge', 'conclusion', 'concord', 'condescending', 'condiments', 'conditioning', 'conditions', 'confirm', 'confirmation', 'confirmed', 'confronted', 'confused', 'confusing', 'confusion', 'connect', 'connoisseur', 'consequently', 'considerable', 'considering', 'consistant', 'consisted', 'consistent', 'consistently', 'contact', 'container', 'continually', 'continued', 'contrast', 'control', 'convenience', 'conversations', 'cook', 'cooked', 'cookies', 'cooking', 'cooks', 'cooled', 'cooling', 'corn', 'cornbread', 'corners', 'cornhole', 'corona', 'corporate', 'corral', 'correct', 'corrected', 'cosmopolitan', 'cost', 'costco', 'costs', 'costumer', 'could', 'couldn', 'counter', 'country', 'coupon', 'course', 'court', 'courteous', 'covered', 'cowboys', 'coyotes', 'cozy', 'cpcc', 'cpk', 'crab', 'crack', 'crafted', 'crammed', 'crap', 'crappy', 'craps', 'crave', 'crawfish', 'crawling', 'craziness', 'cream', 'creamy', 'creative', 'credit', 'crew', 'cringe', 'crisp', 'crispness', 'crispy', 'cristo', 'critic', 'criticism', 'critics', 'croissant', 'croissants', 'crossiants', 'crown', 'crueler', 'crumb', 'crumble', 'crumbly', 'crumbs', 'crunch', 'crunchy', 'crust', 'crystals', 'cu', 'cuban', 'cuisine', 'cultures', 'cup', 'cups', 'curries', 'curry', 'curtido', 'customer', 'customers', 'customized', 'cut', 'cutest', 'cutting', 'daily', 'damn', 'dan', 'dance', 'danced', 'dancer', 'dancers', 'dancing', 'dane', 'daniele', 'daniels', 'danishes', 'dans', 'dante', 'danyella', 'darn', 'darts', 'das', 'date', 'dates', 'dating', 'de', 'dead', 'deals', 'dealt', 'deaw', 'debatable', 'debauchery', 'debit', 'deblasio', 'deboned', 'decade', 'decadent', 'decency', 'decent', 'decided', 'decides', 'deciding', 'declined', 'decorations', 'decreased', 'deeeeelicious', 'deeelish', 'deep', 'def', 'defensive', 'defiantly', 'definetely', 'definetly', 'definintely', 'definite', 'definitely', 'definitly', 'defy', 'dehydrated', 'delectable', 'deli', 'deliberately', 'delicate', 'delicately', 'delicioso', 'delicious', 'deliciously', 'deliciousness', 'delicous', 'delight', 'delighted', 'delightful', 'delights', 'delish', 'delivered', 'delivers', 'delmonico', 'demanded', 'demeanor', 'demerits', 'den', 'denny', 'dennys', 'deno', 'dentist', 'department', 'depending', 'dept', 'der', 'descript', 'desert', 'desired', 'desperate', 'desperately', 'dessert', 'desserts', 'destination', 'deviled', 'devoid', 'devoured', 'dhaba', 'diabla', 'diameter', 'diamondbacks', 'diaper', 'diarrhea', 'dick', 'did', 'didn', 'didnt', 'die', 'digital', 'dilapidated', 'dillo', 'dilute', 'dilworth', 'dine', 'dinner', 'dint', 'dip', 'dips', 'direct', 'dirtiest', 'dirty', 'dis', 'disagree', 'disappear', 'disappeared', 'disappearing', 'disappointed', 'disappointing', 'disappointment', 'disaster', 'disconcerting', 'discount', 'discounted', 'discourteous', 'discovered', 'discovery', 'discusting', 'disgrace', 'disguise', 'disgust', 'disgusted', 'disgusting', 'disgustingly', 'dish', 'dishes', 'dishwasher', 'disinterested', 'dismal', 'dismay', 'dismissive', 'disorganized', 'dispenser', 'displeasure', 'disrespect', 'disrespectful', 'dissapointed', 'dissappointed', 'dissatisfaction', 'dissatisfied', 'distinctly', 'distracting', 'dive', 'diverse', 'divey', 'divine', 'dlish', 'do', 'dobson', 'doctored', 'dodgey', 'dodgy', 'doesn', 'doing', 'dollars', 'don', 'donald', 'done', 'dont', 'donuts', 'doo', 'door', 'dormont', 'dosa', 'doubt', 'doubtful', 'doug', 'dough', 'doughboy', 'douse', 'down', 'downgrade', 'downhill', 'downright', 'downside', 'dr', 'drain', 'drawback', 'drawbacks', 'drawings', 'dreadful', 'dream', 'dreaming', 'dreams', 'dreamy', 'drenched', 'dress', 'dried', 'drink', 'drinkers', 'drinks', 'driver', 'drool', 'drooling', 'dropped', 'drops', 'drowned', 'drug', 'drunken', 'drunkin', 'dry', 'dt', 'duck', 'ducks', 'due', 'duff', 'dukes', 'dull', 'dumbfounded', 'dumped', 'dumpster', 'dumpy', 'during', 'dust', 'duuude', 'earls', 'early', 'earned', 'earplugs', 'earth', 'earthy', 'ease', 'easier', 'easily', 'east', 'eastern', 'easy', 'eat', 'eatable', 'eaten', 'eater', 'eaters', 'eating', 'eats', 'echo', 'eclair', 'eclectic', 'edamame', 'edible', 'edinburgh', 'educate', 'ee', 'eeeeeeee', 'eeeeeeeee', 'eek', 'efficient', 'eg', 'eggplants', 'eggs', 'eh', 'ehh', 'ehhh', 'eine', 'einen', 'either', 'el', 'elegant', 'elegantly', 'elephant', 'elevated', 'eliana', 'elie', 'ellis', 'else', 'elsewhere', 'em', 'emailed', 'embarrassed', 'embarrassing', 'emergency', 'employed', 'employee', 'employees', 'emptor', 'empty', 'ench', 'enchiladas', 'encompasses', 'encountered', 'encourage', 'ended', 'ending', 'endless', 'ends', 'engaging', 'enjoy', 'enjoyable', 'enjoyed', 'enjoying', 'enjoys', 'eno', 'ensures', 'enter', 'enterprise', 'entertaining', 'entertainment', 'entire', 'entirely', 'entres', 'enuff', 'epic', 'equate', 'error', 'escapes', 'especially', 'essen', 'essentially', 'est', 'et', 'etc', 'ethiopian', 'ethnic', 'etoile', 'euphoria', 'europe', 'european', 'even', 'evenings', 'events', 'eventually', 'ever', 'every', 'everyday', 'everyone', 'everything', 'everytime', 'ew', 'ewe', 'ewww', 'ewwww', 'exact', 'excalibur', 'exceeded', 'exceeds', 'excellent', 'excellently', 'except', 'exceptional', 'exceptionally', 'exchange', 'excited', 'excitement', 'excuse', 'executed', 'existant', 'existed', 'existent', 'exotic', 'expand', 'expanded', 'expect', 'expectations', 'expected', 'expecting', 'expensive', 'experience', 'experienced', 'expertly', 'expired', 'explain', 'explained', 'explanation', 'exploding', 'express', 'expressed', 'exquisite', 'extemely', 'extensive', 'extent', 'exterior', 'extraordinary', 'extremely', 'fab', 'fabulous', 'fact', 'facts', 'fail', 'failed', 'failure', 'fairness', 'fajitas', 'fake', 'fallen', 'falling', 'falls', 'false', 'family', 'fan', 'fantastic', 'fantastico', 'far', 'farmer', 'farmers', 'farms', 'fast', 'fat', 'fatso', 'fatty', 'fault', 'fav', 'fave', 'faves', 'favor', 'favorite', 'favorites', 'favs', 'feast', 'feasted', 'features', 'feet', 'fei', 'fell', 'felt', 'female', 'fennel', 'fetalicious', 'fettucine', 'fez', 'fi', 'fianc', 'fiasco', 'fieri', 'fiery', 'fiesta', 'figs', 'figured', 'fil', 'filler', 'fillet', 'filthy', 'fin', 'finally', 'fine', 'finest', 'fingertips', 'finicky', 'finished', 'fiorella', 'fire', 'first', 'fish', 'fishy', 'fitchburg', 'five', 'fix', 'flag', 'flagged', 'flakiest', 'flaky', 'flancer', 'flanny', 'flat', 'flatbreads', 'flatware', 'flauta', 'flavor', 'flavorable', 'flavorful', 'flavorless', 'flavors', 'flavour', 'flawless', 'flipped', 'flirting', 'floating', 'floor', 'flop', 'florence', 'flowing', 'fluffy', 'flys', 'fogo', 'followed', 'fondu', 'fontanella', 'fontina', 'foo', 'foodie', 'foodies', 'foods', 'foor', 'foot', 'footlong', 'for', 'forced', 'forever', 'forgettable', 'forgetting', 'forgiving', 'forgot', 'forgotten', 'fork', 'forks', 'formed', 'forming', 'forth', 'fortify', 'forum', 'foul', 'fox', 'fr', 'fragrant', 'fran', 'france', 'franchise', 'francis', 'francisco', 'frankly', 'freaking', 'free', 'freeway', 'freeze', 'freezer', 'fremont', 'frequented', 'frequenting', 'fresh', 'freshest', 'freshly', 'freshman', 'freshness', 'fridge', 'fried', 'friendliest', 'friendly', 'friends', 'fries', 'frills', 'frites', 'fritos', 'frog', 'front', 'frosting', 'frosty', 'frozen', 'frustrated', 'frustrating', 'frustration', 'ftw', 'fuji', 'fulfilling', 'full', 'fun', 'funky', 'furthermore', 'gaeta', 'gaetano', 'gaetanos', 'gag', 'galaga', 'galaxy', 'gambled', 'gamblers', 'games', 'garage', 'garbage', 'garlic', 'garlicky', 'garlicy', 'gave', 'geisha', 'gelatinous', 'gelato', 'gem', 'gems', 'generic', 'generous', 'genghis', 'genius', 'gentleman', 'gentlemen', 'genuine', 'genuinely', 'gesture', 'getaway', 'gets', 'getting', 'ghetto', 'gift', 'gifts', 'gilbert', 'gimmick', 'gimmicks', 'gimmicky', 'ginny', 'giovanni', 'girl', 'girlfriend', 'girls', 'give', 'given', 'giving', 'glad', 'glam', 'glendale', 'glob', 'glop', 'glorified', 'glorious', 'gluten', 'go', 'goat', 'god', 'gold', 'gone', 'goo', 'good', 'goodies', 'goodness', 'goodnight', 'goods', 'goons', 'goood', 'gordo', 'gorgeous', 'gorging', 'gosh', 'got', 'gotham', 'gotta', 'gotten', 'goulash', 'gourmet', 'gown', 'gowns', 'gps', 'gr8', 'grab', 'grabbing', 'grace', 'gracious', 'grad', 'graduation', 'grande', 'granted', 'grass', 'gratuity', 'gravey', 'gray', 'graze', 'grease', 'greasy', 'great', 'greater', 'greatest', 'greatly', 'greatservice', 'green', 'grew', 'grey', 'grill', 'grille', 'grimaldis', 'grimy', 'grinder', 'grinders', 'gringo', 'gripe', 'gripes', 'grisly', 'gristle', 'gristly', 'gritty', 'groceria', 'groceries', 'grocery', 'gross', 'grossed', 'grossly', 'grouchy', 'groupon', 'grown', 'grows', 'grub', 'grump', 'guacamole', 'guadalajara', 'guanaquito', 'guess', 'guessed', 'guesstimate', 'guest', 'guests', 'guidance', 'guild', 'gum', 'gummy', 'guy', 'gyoza', 'habits', 'had', 'hag', 'hahaha', 'hair', 'half', 'halfway', 'hamachi', 'hamburger', 'handcrafted', 'handed', 'handling', 'handmade', 'hands', 'hang', 'hanger', 'happened', 'happily', 'happy', 'hard', 'hardly', 'harsh', 'harvest', 'has', 'hash', 'hassles', 'hastily', 'hate', 'hated', 'haters', 'haunts', 'haus', 'have', 'haven', 'havent', 'hdtvs', 'he', 'health', 'healthier', 'healthy', 'heap', 'hear', 'heartbeat', 'heartburn', 'hearth', 'hearty', 'heat', 'heaters', 'heaven', 'heavenly', 'heck', 'hefeweizens', 'hefty', 'hehe', 'hell', 'help', 'helper', 'helpful', 'helps', 'hen', 'hendo', 'her', 'herbs', 'here', 'heritage', 'hes', 'hh', 'hhagg', 'hibachi', 'hic', 'hidden', 'high', 'highchair', 'highlands', 'highly', 'hill', 'him', 'hip', 'hipster', 'hire', 'hired', 'hiring', 'hiromaru', 'his', 'historic', 'hmmm', 'hole', 'holy', 'homage', 'home', 'homemade', 'hometown', 'homey', 'honest', 'honestly', 'honesty', 'hong', 'hook', 'hooked', 'hope', 'hopeful', 'hopefully', 'hopes', 'hoping', 'hopped', 'horchata', 'horrendous', 'horrible', 'horribly', 'horrid', 'horrific', 'horseshoe', 'horsey', 'hospital', 'host', 'hosted', 'hostess', 'hostesses', 'hostile', 'hot', 'hottie', 'hough', 'houston', 'how', 'however', 'huge', 'hugely', 'huh', 'hum', 'hummus', 'hungrier', 'hunk', 'husband', 'hut', 'huuuuuge', 'hybrid', 'hygiene', 'hyped', 'iceberg', 'iced', 'ich', 'ick', 'icky', 'id', 'idea', 'identity', 'idiot', 'ids', 'ignorant', 'ignore', 'ignored', 'ignores', 'ignoring', 'ihop', 'ikura', 'ill', 'illness', 'illy', 'imagined', 'imitation', 'immaculate', 'impeccable', 'imperial', 'implying', 'importantly', 'imported', 'impossible', 'impression', 'impressions', 'impressive', 'improve', 'improvement', 'in', 'inappropriate', 'inattentive', 'incentive', 'inch', 'inches', 'incident', 'include', 'includes', 'incomparable', 'incompetent', 'inconsistency', 'inconsistent', 'inconvenience', 'inconvenienced', 'inconveniencing', 'inconvenient', 'incorrect', 'incorrectly', 'incredible', 'indecisive', 'indeed', 'indian', 'indifferent', 'indulge', 'indulgence', 'indulging', 'industry', 'inedible', 'inefficient', 'inexcusable', 'inferno', 'inflated', 'influences', 'inform', 'informed', 'ingrediants', 'ingredients', 'inhaled', 'initially', 'injury', 'inquire', 'inquired', 'insane', 'insanely', 'inside', 'insisted', 'inspection', 'instead', 'insult', 'insulted', 'insulting', 'interested', 'interesting', 'internet', 'interns', 'interrupted', 'intimate', 'introduced', 'inviting', 'iowa', 'ipa', 'ipad', 'ironically', 'irritated', 'is', 'ishi', 'islands', 'isn', 'issan', 'issue', 'issues', 'ist', 'it', 'italian', 'italiana', 'italy', 'itialian', 'its', 'ive', 'ivy', 'jackfruit', 'jade', 'jaki', 'jambalaya', 'james', 'jams', 'jar', 'jaunt', 'jazz', 'jd', 'je', 'jerks', 'jerome', 'jester', 'jesus', 'jewel', 'ji', 'jim', 'jims', 'jitlada', 'joeys', 'joke', 'jonathan', 'jotc', 'jouet', 'jr', 'judgement', 'juice', 'juicy', 'juke', 'jukebox', 'jumbo', 'jumper', 'jumpers', 'jungle', 'junk', 'just', 'ka', 'kah', 'kai', 'kalley', 'kamisama', 'kampachi', 'kang', 'kao', 'karaage', 'karen', 'karoke', 'katherine', 'katiem', 'kawali', 'kebab', 'kee', 'keep', 'keeper', 'keeps', 'keg', 'kennedy', 'kept', 'kera', 'ketchup', 'kevin', 'key', 'kha', 'khai', 'khao', 'khoa', 'khoury', 'kick', 'kickapoo', 'kidding', 'killer', 'kiltlifter', 'kim', 'kimchi', 'kind', 'kinda', 'king', 'kinks', 'kitchen', 'knife', 'knives', 'knossos', 'knot', 'knots', 'knowledgable', 'knowledgeable', 'kong', 'kooah', 'koong', 'kopi', 'korea', 'koupon', 'kra', 'kraft', 'krazy', 'kreme', 'krispie', 'krob', 'kudos', 'kyle', 'labeled', 'lack', 'lacked', 'lacking', 'lackluster', 'lacks', 'lady', 'laid', 'lamb', 'lame', 'lamp', 'landlocked', 'landlord', 'language', 'lao', 'larb', 'lard', 'lardish', 'largely', 'largest', 'las', 'last', 'lasted', 'later', 'latest', 'laughable', 'lavish', 'laying', 'lbs', 'le', 'leads', 'leaf', 'leaking', 'least', 'leather', 'leave', 'leaving', 'lebanon', 'lechon', 'leek', 'left', 'leftovers', 'legendary', 'legit', 'leider', 'leith', 'lemonades', 'lengua', 'les', 'less', 'lesson', 'let', 'letdown', 'lets', 'lettuce', 'level', 'liar', 'licious', 'lick', 'licked', 'lid', 'lie', 'lifeless', 'lifesaver', 'light', 'like', 'liked', 'lime', 'limit', 'limited', 'limitless', 'limp', 'lims', 'lindsey', 'lines', 'ling', 'lipstick', 'lish', 'list', 'listed', 'listened', 'lit', 'litchfield', 'literally', 'little', 'live', 'lived', 'lives', 'living', 'liz', 'loaf', 'lobster', 'lobsters', 'loca', 'local', 'locale', 'locally', 'locals', 'located', 'locked', 'logan', 'lone', 'longer', 'lonnng', 'look', 'looked', 'looks', 'loooooove', 'loop', 'los', 'lost', 'lots', 'lotus', 'loud', 'loudly', 'lousy', 'love', 'loved', 'lovely', 'lovers', 'loving', 'lovingly', 'lowest', 'lox', 'loyalty', 'lt', 'luby', 'luck', 'lucky', 'lucy', 'luke', 'lukewarm', 'lunch', 'luncheon', 'lunches', 'luster', 'luv', 'lux', 'lv', 'lyon', 'mac', 'macaroni', 'machaca', 'machine', 'mad', 'madding', 'madison', 'madtown', 'magazines', 'magherita', 'magic', 'magical', 'magnificent', 'maintained', 'mais', 'major', 'make', 'makeover', 'makes', 'mal', 'malaysian', 'malbec', 'male', 'mall', 'malt', 'management', 'manager', 'mandatory', 'manger', 'mangers', 'mango', 'mangoes', 'mangos', 'maple', 'marg', 'margharita', 'margherita', 'marginal', 'maria', 'marinated', 'mariscos', 'mark', 'marlin', 'marrakech', 'marry', 'mart', 'marvelous', 'massage', 'master', 'masterpieces', 'masters', 'mastro', 'math', 'matthews', 'maureen', 'maybe', 'mayo', 'mayonnaise', 'mayra', 'mazing', 'mc', 'mcclintock', 'mcdonald', 'mcdonalds', 'mcdowell', 'mcfarland', 'me', 'mead', 'mealy', 'meant', 'meanwhile', 'meat', 'meatball', 'meatballs', 'meatloaf', 'med', 'mediocore', 'mediocre', 'mediocrity', 'medium', 'meet', 'meetings', 'meh', 'mellow', 'melt', 'melts', 'members', 'memorial', 'memories', 'menu', 'menus', 'merchant', 'mess', 'messed', 'messy', 'meters', 'methinks', 'metro', 'mezzelune', 'mia', 'micheladas', 'michele', 'michelin', 'michelle', 'microwave', 'microwaved', 'midwood', 'might', 'mild', 'milkshake', 'milkshakes', 'milling', 'mills', 'mim', 'min', 'minced', 'mineo', 'minestrone', 'miniature', 'minimal', 'minimum', 'mins', 'mint', 'minuets', 'minuscule', 'minutes', 'mir', 'miracle', 'mirage', 'mire', 'miserable', 'mishaps', 'miso', 'missing', 'mistake', 'mistaken', 'mistakes', 'mit', 'miyagi', 'mmm', 'mmmm', 'mmmmm', 'mmmmmm', 'mmmmmmm', 'mmmmmmmm', 'mmmmmmmmm', 'mmmmmmmmmmmmm', 'moist', 'moisture', 'mold', 'molly', 'moly', 'mon', 'monday', 'mondays', 'money', 'mongolian', 'monkey', 'monster', 'monta', 'montana', 'monte', 'monter', 'month', 'montreal', 'morning', 'mornings', 'moroccan', 'moscato', 'mosel', 'most', 'mostly', 'motorcycles', 'motorino', 'mound', 'mousse', 'mouth', 'mouthwatering', 'move', 'mow', 'mozzarella', 'mr', 'ms', 'msco', 'msd', 'msg', 'mt', 'mu', 'muah', 'much', 'munchies', 'museum', 'mush', 'mushroom', 'mushrooms', 'mushy', 'mussaman', 'must', 'mustard', 'mustardy', 'musubi', 'my', 'nacho', 'nah', 'nails', 'nam', 'name', 'nami', 'nap', 'napkin', 'napkins', 'naples', 'napoli', 'nash', 'nastiest', 'nasty', 'nate', 'nathan', 'national', 'native', 'natives', 'natural', 'nausea', 'nauseous', 'ne', 'neapolitan', 'nearly', 'needed', 'needless', 'needs', 'neg_1', 'neg_10', 'neg_15', 'neg_17', 'neg_20', 'neg_25', 'neg_2nd', 'neg_40', 'neg_5', 'neg_a', 'neg_about', 'neg_accept', 'neg_acceptable', 'neg_acknowledge', 'neg_acknowledged', 'neg_act', 'neg_actually', 'neg_advertises', 'neg_advise', 'neg_afraid', 'neg_after', 'neg_again', 'neg_ahwatukee', 'neg_all', 'neg_almost', 'neg_already', 'neg_always', 'neg_ambiance', 'neg_amongst', 'neg_amount', 'neg_an', 'neg_and', 'neg_annoyed', 'neg_another', 'neg_answer', 'neg_any', 'neg_anymore', 'neg_anyone', 'neg_anything', 'neg_anytime', 'neg_apologize', 'neg_apologized', 'neg_apology', 'neg_appealing', 'neg_appetite', 'neg_appetizers', 'neg_appetizing', 'neg_approach', 'neg_are', 'neg_armadillo', 'neg_arrived', 'neg_as', 'neg_ask', 'neg_asked', 'neg_asking', 'neg_at', 'neg_attack', 'neg_attempt', 'neg_attempted', 'neg_attention', 'neg_attitude', 'neg_authentic', 'neg_avoid', 'neg_awful', 'neg_ayce', 'neg_back', 'neg_bacon', 'neg_badly', 'neg_barely', 'neg_barista', 'neg_bartender', 'neg_bbq', 'neg_be', 'neg_beat', 'neg_beats', 'neg_became', 'neg_because', 'neg_beer', 'neg_behind', 'neg_being', 'neg_belong', 'neg_bianco', 'neg_biancos', 'neg_bill', 'neg_birthday', 'neg_bite', 'neg_bizarre', 'neg_bland', 'neg_blue', 'neg_booth', 'neg_both', 'neg_bother', 'neg_bothered', 'neg_bottled', 'neg_box', 'neg_brag', 'neg_brave', 'neg_brazilian', 'neg_breast', 'neg_bring', 'neg_brisket', 'neg_brothers', 'neg_brought', 'neg_bs', 'neg_bucks', 'neg_bun', 'neg_burger', 'neg_burgers', 'neg_burn', 'neg_burnt', 'neg_business', 'neg_busy', 'neg_buzz', 'neg_call', 'neg_called', 'neg_calorie', 'neg_came', 'neg_candle', 'neg_capitol', 'neg_card', 'neg_care', 'neg_caring', 'neg_case', 'neg_change', 'neg_changed', 'neg_changs', 'neg_charge', 'neg_charged', 'neg_charleston', 'neg_charm', 'neg_check', 'neg_checked', 'neg_cheese', 'neg_chef', 'neg_chicago', 'neg_chicken', 'neg_choice', 'neg_chose', 'neg_chris', 'neg_churrascaria', 'neg_clean', 'neg_cleaned', 'neg_cleanest', 'neg_clearly', 'neg_clients', 'neg_close', 'neg_clue', 'neg_coke', 'neg_cold', 'neg_coleslaw', 'neg_come', 'neg_comfortable', 'neg_coming', 'neg_comp', 'neg_compares', 'neg_comped', 'neg_compensate', 'neg_complaint', 'neg_completely', 'neg_contact', 'neg_convenient', 'neg_cook', 'neg_cooked', 'neg_cookie', 'neg_cool', 'neg_correct', 'neg_correctly', 'neg_could', 'neg_couldn', 'neg_coupon', 'neg_coupons', 'neg_crap', 'neg_crispy', 'neg_crunchy', 'neg_curb', 'neg_customer', 'neg_customers', 'neg_cut', 'neg_de', 'neg_deal', 'neg_deceive', 'neg_decent', 'neg_decide', 'neg_decor', 'neg_degrees', 'neg_delay', 'neg_delicious', 'neg_delight', 'neg_deliver', 'neg_delivery', 'neg_dent', 'neg_described', 'neg_deserve', 'neg_deserved', 'neg_desire', 'neg_destination', 'neg_deter', 'neg_did', 'neg_didn', 'neg_difference', 'neg_different', 'neg_dime', 'neg_dinning', 'neg_dirty', 'neg_disappoint', 'neg_disappointed', 'neg_disappoints', 'neg_discounts', 'neg_discouraged', 'neg_discover', 'neg_disgusted', 'neg_disgusting', 'neg_dishes', 'neg_dissapointed', 'neg_dissappointed', 'neg_dissuade', 'neg_do', 'neg_dog', 'neg_doing', 'neg_dollar', 'neg_dollars', 'neg_don', 'neg_done', 'neg_donuts', 'neg_doughy', 'neg_draw', 'neg_drink', 'neg_drinks', 'neg_dropped', 'neg_drunken', 'neg_duck', 'neg_due', 'neg_duplicate', 'neg_e', 'neg_earned', 'neg_eat', 'neg_eatable', 'neg_eating', 'neg_edible', 'neg_effort', 'neg_eggs', 'neg_either', 'neg_employees', 'neg_encourage', 'neg_ending', 'neg_english', 'neg_enjoyable', 'neg_eno', 'neg_enough', 'neg_entrance', 'neg_entree', 'neg_entrees', 'neg_equal', 'neg_especially', 'neg_establishment', 'neg_even', 'neg_event', 'neg_ever', 'neg_everyone', 'neg_except', 'neg_exceptional', 'neg_excited', 'neg_exciting', 'neg_excuse', 'neg_exotic', 'neg_expect', 'neg_expectations', 'neg_expected', 'neg_experience', 'neg_explain', 'neg_exterior', 'neg_extraordinary', 'neg_eye', 'neg_f', 'neg_fab', 'neg_fact', 'neg_failed', 'neg_fails', 'neg_fancy', 'neg_fatburger', 'neg_fault', 'neg_federal', 'neg_feed', 'neg_feel', 'neg_figure', 'neg_finally', 'neg_finish', 'neg_finished', 'neg_first', 'neg_fish', 'neg_flag', 'neg_flavor', 'neg_flavored', 'neg_flavorful', 'neg_flavorless', 'neg_food', 'neg_fool', 'neg_foot', 'neg_for', 'neg_forget', 'neg_forgot', 'neg_forgotten', 'neg_fork', 'neg_fountain', 'neg_francisco', 'neg_free', 'neg_fresh', 'neg_freshly', 'neg_friend', 'neg_friendly', 'neg_friends', 'neg_fries', 'neg_from', 'neg_front', 'neg_fuss', 'neg_future', 'neg_gamey', 'neg_gave', 'neg_geisha', 'neg_gelato', 'neg_gem', 'neg_get', 'neg_getting', 'neg_gift', 'neg_girls', 'neg_give', 'neg_given', 'neg_gives', 'neg_glamorous', 'neg_gloves', 'neg_go', 'neg_going', 'neg_gone', 'neg_good', 'neg_gorge', 'neg_got', 'neg_gotta', 'neg_gown', 'neg_grade', 'neg_gratuity', 'neg_grease', 'neg_greasy', 'neg_great', 'neg_greek', 'neg_greet', 'neg_greeted', 'neg_grill', 'neg_grilled', 'neg_groupon', 'neg_half', 'neg_hamburger', 'neg_handling', 'neg_hands', 'neg_happen', 'neg_happened', 'neg_happening', 'neg_happier', 'neg_happily', 'neg_happy', 'neg_hard', 'neg_hasn', 'neg_hassle', 'neg_hate', 'neg_have', 'neg_haven', 'neg_he', 'neg_heading', 'neg_health', 'neg_hear', 'neg_heavy', 'neg_hello', 'neg_help', 'neg_helpful', 'neg_her', 'neg_here', 'neg_hers', 'neg_herself', 'neg_hesitate', 'neg_hidden', 'neg_high', 'neg_highest', 'neg_hill', 'neg_him', 'neg_his', 'neg_hold', 'neg_home', 'neg_honor', 'neg_hope', 'neg_horrible', 'neg_hospital', 'neg_hospitality', 'neg_hostess', 'neg_hot', 'neg_hour', 'neg_house', 'neg_how', 'neg_hundreds', 'neg_husband', 'neg_hype', 'neg_i', 'neg_idea', 'neg_if', 'neg_ill', 'neg_impressed', 'neg_impressive', 'neg_improve', 'neg_in', 'neg_inaccurate', 'neg_include', 'neg_included', 'neg_inconvenience', 'neg_incredibly', 'neg_industry', 'neg_inform', 'neg_informed', 'neg_initial', 'neg_intense', 'neg_interested', 'neg_interior', 'neg_intimidated', 'neg_inviting', 'neg_is', 'neg_issues', 'neg_it', 'neg_japanese', 'neg_job', 'neg_judge', 'neg_juicy', 'neg_just', 'neg_justify', 'neg_keep', 'neg_keg', 'neg_kept', 'neg_kick', 'neg_killian', 'neg_kitchen', 'neg_knife', 'neg_know', 'neg_lack', 'neg_lacked', 'neg_largest', 'neg_lasting', 'neg_later', 'neg_lazy', 'neg_left', 'neg_less', 'neg_let', 'neg_like', 'neg_lime', 'neg_listen', 'neg_load', 'neg_local', 'neg_located', 'neg_location', 'neg_longer', 'neg_looked', 'neg_lotus', 'neg_loved', 'neg_mac', 'neg_mad', 'neg_made', 'neg_make', 'neg_makes', 'neg_making', 'neg_mall', 'neg_management', 'neg_manager', 'neg_mango', 'neg_manner', 'neg_many', 'neg_match', 'neg_maybe', 'neg_mayo', 'neg_mcdonalds', 'neg_me', 'neg_mean', 'neg_meant', 'neg_measure', 'neg_meat', 'neg_meatloaf', 'neg_mediocre', 'neg_medium', 'neg_meet', 'neg_melted', 'neg_memorable', 'neg_mentioned', 'neg_messy', 'neg_met', 'neg_mine', 'neg_mins', 'neg_minutes', 'neg_miss', 'neg_missed', 'neg_mistake', 'neg_mon', 'neg_money', 'neg_mongolian', 'neg_montreal', 'neg_moving', 'neg_much', 'neg_my', 'neg_napkins', 'neg_nasty', 'neg_neighborhood', 'neg_network', 'neg_never', 'neg_nicest', 'neg_no', 'neg_nor', 'neg_northern', 'neg_not', 'neg_noteworthy', 'neg_nothing', 'neg_notice', 'neg_of', 'neg_offer', 'neg_offered', 'neg_offering', 'neg_official', 'neg_ok', 'neg_okay', 'neg_old', 'neg_olives', 'neg_on', 'neg_once', 'neg_one', 'neg_open', 'neg_opening', 'neg_opinion', 'neg_option', 'neg_or', 'neg_order', 'neg_ordered', 'neg_ordering', 'neg_orders', 'neg_organic', 'neg_oriented', 'neg_others', 'neg_our', 'neg_ours', 'neg_out', 'neg_outside', 'neg_over', 'neg_overbearing', 'neg_overcharged', 'neg_overcome', 'neg_overpowering', 'neg_overpriced', 'neg_overwhelming', 'neg_owner', 'neg_paid', 'neg_pampas', 'neg_paper', 'neg_par', 'neg_parking', 'neg_particular', 'neg_particularly', 'neg_parties', 'neg_pass', 'neg_patronize', 'neg_patrons', 'neg_patty', 'neg_pay', 'neg_paying', 'neg_pb', 'neg_people', 'neg_percent', 'neg_perfect', 'neg_person', 'neg_phone', 'neg_pickup', 'neg_picky', 'neg_picture', 'neg_pink', 'neg_pittsburgh', 'neg_pizza', 'neg_pizzeria', 'neg_place', 'neg_placed', 'neg_plantain', 'neg_plate', 'neg_plates', 'neg_pleasant', 'neg_point', 'neg_poisoning', 'neg_police', 'neg_policy', 'neg_polite', 'neg_poor', 'neg_poorly', 'neg_pork', 'neg_potato', 'neg_potatoes', 'neg_preferred', 'neg_premium', 'neg_prepared', 'neg_present', 'neg_presentation', 'neg_presented', 'neg_press', 'neg_pretentious', 'neg_pretzel', 'neg_pretzels', 'neg_price', 'neg_prices', 'neg_pricey', 'neg_pricy', 'neg_print', 'neg_process', 'neg_product', 'neg_promised', 'neg_prompt', 'neg_properly', 'neg_provide', 'neg_pub', 'neg_put', 'neg_qualify', 'neg_quality', 'neg_quantities', 'neg_quarter', 'neg_question', 'neg_questions', 'neg_ramen', 'neg_ran', 'neg_ranch', 'neg_random', 'neg_rare', 'neg_rate', 'neg_rave', 'neg_raves', 'neg_read', 'neg_ready', 'neg_real', 'neg_really', 'neg_reason', 'neg_reccomend', 'neg_receipt', 'neg_receive', 'neg_received', 'neg_receiving', 'neg_recommend', 'neg_recommended', 'neg_refill', 'neg_refilled', 'neg_refills', 'neg_reflect', 'neg_refreshing', 'neg_refund', 'neg_regret', 'neg_remarkable', 'neg_remembered', 'neg_remove', 'neg_reopens', 'neg_repeat', 'neg_request', 'neg_reservations', 'neg_resist', 'neg_response', 'neg_restaurant', 'neg_restuarant', 'neg_return', 'neg_returned', 'neg_returning', 'neg_reviewers', 'neg_ribs', 'neg_ridiculous', 'neg_right', 'neg_risk', 'neg_romantic', 'neg_rosa', 'neg_rude', 'neg_rushed', 'neg_said', 'neg_salad', 'neg_salt', 'neg_same', 'neg_sampler', 'neg_san', 'neg_sandwich', 'neg_sashimi', 'neg_sauce', 'neg_save', 'neg_saw', 'neg_saying', 'neg_says', 'neg_scare', 'neg_scared', 'neg_score', 'neg_screw', 'neg_seafood', 'neg_seasoned', 'neg_seat', 'neg_seceret', 'neg_second', 'neg_see', 'neg_seeing', 'neg_seem', 'neg_seemed', 'neg_seems', 'neg_selection', 'neg_sell', 'neg_send', 'neg_sending', 'neg_sensational', 'neg_sense', 'neg_sent', 'neg_serve', 'neg_served', 'neg_server', 'neg_servers', 'neg_service', 'neg_serving', 'neg_set', 'neg_several', 'neg_shady', 'neg_she', 'neg_shopping', 'neg_should', 'neg_shouldn', 'neg_shy', 'neg_siam', 'neg_sick', 'neg_sides', 'neg_sight', 'neg_sign', 'neg_silverware', 'neg_simple', 'neg_since', 'neg_sit', 'neg_situation', 'neg_skimp', 'neg_slightly', 'neg_smell', 'neg_smelled', 'neg_smile', 'neg_smiled', 'neg_smiles', 'neg_smoked', 'neg_so', 'neg_soda', 'neg_someone', 'neg_somewhere', 'neg_sonic', 'neg_soon', 'neg_sophisticated', 'neg_soups', 'neg_sourdough', 'neg_speak', 'neg_special', 'neg_spectacular', 'neg_spend', 'neg_spending', 'neg_spicy', 'neg_spoiled', 'neg_spoke', 'neg_sports', 'neg_staff', 'neg_stale', 'neg_standards', 'neg_stanley', 'neg_stated', 'neg_stay', 'neg_stayed', 'neg_steak', 'neg_step', 'neg_stingy', 'neg_stomach', 'neg_stood', 'neg_store', 'neg_strayed', 'neg_strip', 'neg_stuffed', 'neg_subpar', 'neg_substitute', 'neg_substitution', 'neg_superb', 'neg_support', 'neg_supposed', 'neg_sure', 'neg_survive', 'neg_sushi', 'neg_swallow', 'neg_sweets', 'neg_table', 'neg_tables', 'neg_tacos', 'neg_take', 'neg_taste', 'neg_tasted', 'neg_tasteless', 'neg_tastes', 'neg_tastiest', 'neg_tasting', 'neg_tasty', 'neg_teas', 'neg_tell', 'neg_ten', 'neg_tender', 'neg_terrible', 'neg_texas', 'neg_thai', 'neg_thailand', 'neg_thank', 'neg_that', 'neg_the', 'neg_their', 'neg_them', 'neg_themselves', 'neg_then', 'neg_there', 'neg_they', 'neg_think', 'neg_third', 'neg_this', 'neg_though', 'neg_threw', 'neg_thrilled', 'neg_thursday', 'neg_ticket', 'neg_time', 'neg_timely', 'neg_tip', 'neg_to', 'neg_toasted', 'neg_together', 'neg_told', 'neg_tonight', 'neg_too', 'neg_took', 'neg_touched', 'neg_trap', 'neg_travel', 'neg_treat', 'neg_treated', 'neg_tried', 'neg_two', 'neg_unassuming', 'neg_under', 'neg_understand', 'neg_unless', 'neg_until', 'neg_up', 'neg_ur', 'neg_us', 'neg_use', 'neg_used', 'neg_usually', 'neg_value', 'neg_varied', 'neg_vegan', 'neg_vegas', 'neg_vendors', 'neg_very', 'neg_vig', 'neg_village', 'neg_visit', 'neg_waist', 'neg_wait', 'neg_waiter', 'neg_waitress', 'neg_waitstaff', 'neg_walked', 'neg_walls', 'neg_want', 'neg_wanted', 'neg_wanting', 'neg_warrant', 'neg_was', 'neg_wash', 'neg_wasn', 'neg_waste', 'neg_wasted', 'neg_wasting', 'neg_water', 'neg_waters', 'neg_way', 'neg_we', 'neg_wear', 'neg_website', 'neg_weird', 'neg_welcome', 'neg_welcoming', 'neg_well', 'neg_went', 'neg_were', 'neg_what', 'neg_whatelse', 'neg_whatsoever', 'neg_when', 'neg_who', 'neg_why', 'neg_wife', 'neg_will', 'neg_windows', 'neg_wine', 'neg_wines', 'neg_wings', 'neg_winning', 'neg_with', 'neg_won', 'neg_work', 'neg_worked', 'neg_working', 'neg_worse', 'neg_worst', 'neg_worth', 'neg_worthy', 'neg_would', 'neg_wouldn', 'neg_wow', 'neg_wowed', 'neg_write', 'neg_wrong', 'neg_yet', 'neg_your', 'neg_zero', 'neglected', 'neighborhood', 'neither', 'nephew', 'nerve', 'nestled', 'never', 'news', 'next', 'nice', 'nicht', 'nick', 'nightlife', 'nightly', 'nightmares', 'nights', 'ninny', 'nirvana', 'no', 'nobody', 'noms', 'non', 'none', 'nonetheless', 'nonsense', 'nontheless', 'noodle', 'noodles', 'nope', 'nor', 'normal', 'norteno', 'north', 'northern', 'nosh', 'not', 'notch', 'notches', 'nothing', 'noticed', 'notified', 'nourriture', 'nous', 'novelty', 'nowhere', 'ntn', 'nua', 'nuclear', 'nuf', 'num', 'nur', 'nurse', 'nurses', 'nw', 'ny', 'nyc', 'obesity', 'obnoxious', 'obnoxiously', 'obscure', 'obsessed', 'obvious', 'obviously', 'occasion', 'occasionally', 'occupied', 'ocha', 'odd', 'oder', 'odor', 'off', 'offended', 'offered', 'offering', 'offers', 'offsite', 'often', 'oily', 'ok', 'okay', 'old', 'olds', 'olives', 'omakase', 'omelet', 'omelets', 'omelettes', 'omg', 'omit', 'on', 'ong', 'only', 'ooh', 'opens', 'operated', 'opinon', 'or', 'orange', 'order', 'ordered', 'orders', 'ordinaire', 'orgy', 'oriental', 'oriented', 'orpheum', 'os', 'osakas', 'oscar', 'ossobucco', 'ossobuco', 'ostrich', 'osucka', 'otb', 'other', 'oua', 'ounces', 'our', 'ours', 'out', 'outback', 'outdated', 'outfits', 'outside', 'outstanding', 'oven', 'over', 'overated', 'overcharge', 'overcharged', 'overcooked', 'overdone', 'overdose', 'overdue', 'overhaul', 'overheated', 'overhyped', 'overlooked', 'overly', 'overpay', 'overpriced', 'overrated', 'overwhelmed', 'owe', 'owned', 'owners', 'packaged', 'packed', 'packet', 'packets', 'pad', 'page', 'paid', 'painfully', 'pair', 'paired', 'pairing', 'pairings', 'pairs', 'palace', 'palazzo', 'palce', 'palette', 'palmeri', 'palo', 'pampas', 'panang', 'pancake', 'pancakes', 'panda', 'pane', 'paneling', 'panini', 'pantry', 'papaya', 'paper', 'papusa', 'papusas', 'papya', 'par', 'parade', 'parchment', 'parisian', 'parking', 'parmigiano', 'partially', 'participate', 'partner', 'party', 'partying', 'pas', 'pasquals', 'pass', 'passable', 'passionate', 'past', 'pasta', 'pastas', 'pasto', 'pastor', 'pastries', 'pastry', 'pasty', 'pata', 'path', 'pathetic', 'patient', 'patronize', 'patrons', 'patties', 'patty', 'pay', 'payed', 'paying', 'payment', 'paz', 'peaberry', 'peach', 'peaches', 'peak', 'peanut', 'pecan', 'pecans', 'pechuga', 'pei', 'penang', 'penguin', 'penis', 'penn', 'penny', 'peppercorns', 'per', 'percent', 'perfect', 'perfection', 'perfectly', 'perfecto', 'perhaps', 'period', 'perrier', 'person', 'personable', 'personal', 'personality', 'personalized', 'personally', 'pesto', 'pet', 'pete', 'phenomenal', 'phil', 'pho', 'phoenix', 'phone', 'phoned', 'phones', 'phx', 'phyllo', 'pian', 'picado', 'picanha', 'picasso', 'picatta', 'picked', 'pickels', 'pickiest', 'pickles', 'pickup', 'picky', 'picnic', 'picture', 'pie', 'piece', 'pieces', 'pierogi', 'pierogis', 'pierre', 'pies', 'pigeons', 'piggle', 'pile', 'pinch', 'pines', 'ping', 'pink', 'pinky', 'pinnacle', 'piping', 'pipping', 'piquillo', 'piranha', 'pirate', 'pirates', 'pissed', 'pistachio', 'pistachios', 'pitchers', 'pitt', 'pittsburgh', 'pizza', 'pizzas', 'pizzeria', 'pjp', 'pla', 'place', 'placed', 'places', 'plain', 'plan', 'plane', 'plant', 'plantains', 'plar', 'plastic', 'platanos', 'plate', 'plates', 'player', 'plaza', 'pleasantly', 'please', 'pleased', 'pleasure', 'plenty', 'plopped', 'plump', 'pm', 'pnc', 'pocketbook', 'podium', 'point', 'pointed', 'points', 'poising', 'poisoning', 'pok', 'poke', 'policy', 'polish', 'politely', 'pomegranate', 'pompano', 'ponchos', 'poo', 'pool', 'poor', 'poorly', 'popeyes', 'poppin', 'poppy', 'popular', 'popularity', 'popusas', 'porcini', 'portioned', 'portovino', 'positive', 'positives', 'posted', 'postino', 'pot', 'potatoe', 'potatoes', 'potential', 'potion', 'poured', 'poutine', 'pow', 'powdered', 'pozole', 'ppp', 'practically', 'prankin', 'prawn', 'prawns', 'pre', 'preferences', 'premier', 'prepackaged', 'preparation', 'prepare', 'prepared', 'prescott', 'presence', 'preset', 'presumably', 'pretense', 'pretentious', 'pretty', 'pretzel', 'pretzels', 'previous', 'priced', 'prices', 'pricey', 'pricier', 'priciest', 'prik', 'prime', 'princess', 'principle', 'pro', 'probably', 'problem', 'problems', 'proceeded', 'proceeds', 'process', 'processed', 'prociutto', 'produce', 'produces', 'professional', 'profit', 'projection', 'promising', 'promoter', 'prompt', 'proportions', 'proprietor', 'prosciutto', 'proscuitto', 'provides', 'ps', 'pseudo', 'pu', 'pub', 'public', 'puck', 'pucks', 'pud', 'puff', 'puffs', 'puked', 'pull', 'pulled', 'pungent', 'punishment', 'punked', 'pupusa', 'pupusas', 'pura', 'purchased', 'purpose', 'pushed', 'put', 'puts', 'putting', 'quadruple', 'quaint', 'qualities', 'quality', 'quantity', 'quark', 'quarter', 'que', 'quesadilla', 'queso', 'question', 'questioned', 'qui', 'quibble', 'quick', 'quiet', 'quirky', 'races', 'rachel', 'racial', 'racist', 'rack', 'racket', 'rad', 'radio', 'rag', 'rags', 'rains', 'rainy', 'raise', 'ramen', 'ramsey', 'ran', 'rancid', 'rang', 'range', 'rapping', 'rare', 'rated', 'rather', 'rating', 'rav', 'ravioli', 'raw', 're', 'read', 'reading', 'reality', 'realize', 'realized', 'realy', 'reason', 'reasonable', 'reasonably', 'rebar', 'recall', 'receipt', 'receipts', 'receive', 'received', 'recently', 'reception', 'recognizes', 'recomend', 'recomendations', 'recommed', 'recommend', 'recommendation', 'recommendations', 'recommended', 'rectify', 'red', 'redeem', 'redeeming', 'refill', 'refillable', 'refills', 'reflection', 'reflects', 'refreshing', 'refrigerated', 'refund', 'refunded', 'refuse', 'refused', 'refuses', 'reggiano', 'regions', 'register', 'regularly', 'regulars', 'reheat', 'reheated', 'reisling', 'reislings', 'relatives', 'relax', 'relaxed', 'relaxing', 'reliable', 'relleno', 'reluctantly', 'remade', 'remainder', 'remake', 'remembers', 'reminded', 'reminds', 'remodeled', 'remodeling', 'remotely', 'remove', 'removed', 'removing', 'rename', 'reopen', 'repeat', 'repeated', 'repeatedly', 'replace', 'replaced', 'replacing', 'replied', 'replies', 'reply', 'report', 'requested', 'rescue', 'research', 'resembled', 'resembling', 'reservation', 'reservations', 'resonably', 'resort', 'responded', 'response', 'responsibility', 'rest', 'restaurants', 'resteraunt', 'resto', 'restocking', 'restored', 'restroom', 'restuarants', 'resturaunt', 'result', 'rethink', 'retiring', 'retreat', 'returned', 'reused', 'revenue', 'reverse', 'review', 'reviews', 'revolting', 'rhubarb', 'rib', 'ric', 'rice', 'rich', 'richness', 'ricotta', 'ride', 'rides', 'ridge', 'ridiculous', 'riesling', 'rieslings', 'rigatony', 'right', 'ring', 'rings', 'rip', 'ripoff', 'ripped', 'risen', 'rivals', 'river', 'rivertowne', 'rnr', 'roach', 'roaches', 'roadside', 'roast', 'roastbeef', 'roasted', 'roberto', 'rocked', 'rockets', 'rocking', 'rocks', 'rodizio', 'rogue', 'rolls', 'romaine', 'romana', 'romano', 'romantic', 'rome', 'roof', 'rooftop', 'roommate', 'roots', 'rosa', 'rose', 'rotate', 'roti', 'rotten', 'route', 'royalty', 'rub', 'rubber', 'rubbery', 'rubio', 'rubios', 'rude', 'rudely', 'rudeness', 'rudest', 'ruen', 'ruined', 'ruining', 'ruins', 'rules', 'rumors', 'runner', 'runners', 'runny', 'rush', 'rushed', 'rustico', 's1', 'sa', 'saag', 'sad', 'sadly', 'safety', 'sage', 'sai', 'said', 'saipin', 'saki', 'salads', 'salami', 'salivate', 'salivating', 'salon', 'salsitas', 'salt', 'salted', 'salty', 'salvador', 'salvadoran', 'salvadorean', 'salvadorian', 'same', 'sample', 'sampling', 'san', 'sandwich', 'sandwiches', 'sangria', 'santisi', 'sarong', 'sat', 'satay', 'satisfactory', 'satisfied', 'satisfies', 'satisfying', 'saturated', 'sauces', 'sausage', 'saut', 'save', 'saved', 'saving', 'savored', 'savorful', 'savory', 'saw', 'sawara', 'say', 'saying', 'says', 'sbarro', 'scallops', 'scam', 'scammed', 'scampi', 'scant', 'scenery', 'schnitzel', 'scholls', 'schon', 'school', 'science', 'scones', 'scoop', 'scooping', 'scotch', 'scramble', 'scraped', 'scraps', 'scratching', 'scream', 'screamed', 'screaming', 'screw', 'screwed', 'scrumptious', 'sea', 'seabass', 'seamlessly', 'seasonal', 'seasonally', 'seasoning', 'seat', 'seated', 'seats', 'second', 'secondly', 'secret', 'secrets', 'sedona', 'seedy', 'seeing', 'seemed', 'seems', 'selection', 'selling', 'sells', 'semester', 'send', 'senior', 'sensational', 'sensations', 'sensitivities', 'sent', 'sentimental', 'seoul', 'separating', 'seriously', 'served', 'server', 'servers', 'servicing', 'serving', 'sesame', 'setting', 'severely', 'seviche', 'sewage', 'sh', 'shaded', 'shady', 'shake', 'shakes', 'shalimar', 'shame', 'shameful', 'shanghai', 'shank', 'share', 'shared', 'sharing', 'shark', 'shattered', 'she', 'sheesh', 'shell', 'shells', 'shinerbok', 'shirmps', 'shitty', 'shocked', 'shoe', 'shootz', 'shop', 'shopping', 'shops', 'shore', 'shorted', 'shot', 'should', 'shouldn', 'shouldnt', 'shouting', 'shoved', 'shoveling', 'showed', 'showmars', 'shoyu', 'shrimp', 'shriveled', 'shrugged', 'shrunk', 'shuffleboard', 'shut', 'shuts', 'shwarma', 'siam', 'siblings', 'sichuan', 'sick', 'sickly', 'sides', 'sidewalk', 'sigh', 'sign', 'silk', 'silverware', 'similar', 'similarly', 'simple', 'simplicity', 'sinaloa', 'singapore', 'singha', 'singles', 'sipping', 'sips', 'sitting', 'situation', 'situations', 'sizzler', 'skanky', 'skeptical', 'skepticism', 'sketch', 'sketchy', 'skimpy', 'skinny', 'skins', 'skip', 'slam', 'slapped', 'sleeper', 'slid', 'sliders', 'slimy', 'slinging', 'slipped', 'slop', 'sloppy', 'slow', 'slowest', 'slowness', 'small', 'smallest', 'smashburger', 'smeared', 'smell', 'smelled', 'smells', 'smelly', 'smh', 'smile', 'smiled', 'smiles', 'smiling', 'smoke', 'smoked', 'smokiness', 'smooth', 'smoothie', 'smoothies', 'snag', 'snail', 'snarky', 'snickerdoodle', 'snob', 'snooty', 'snotty', 'soa', 'soaked', 'soapy', 'social', 'soda', 'soft', 'softest', 'softshell', 'soggy', 'soho', 'soi', 'solid', 'som', 'some', 'somebody', 'somehow', 'someone', 'something', 'sometimes', 'somewhere', 'sommelier', 'sonic', 'sonics', 'sonny', 'sont', 'soo', 'soon', 'sooo', 'soooo', 'sooooo', 'sopa', 'sopressata', 'sora', 'sorely', 'sorry', 'sorted', 'sorts', 'sosa', 'sounded', 'soup', 'soups', 'sour', 'sourced', 'sourdough', 'soured', 'south', 'southside', 'souvenier', 'souvlaki', 'spacious', 'spades', 'spaghetti', 'span', 'spanked', 'sparse', 'speak', 'speaker', 'special', 'specialities', 'specials', 'specialties', 'specialty', 'spectactular', 'spectacular', 'spectator', 'spend', 'spent', 'spice', 'spices', 'spicey', 'spiciness', 'spicy', 'spicyness', 'spiedini', 'spiked', 'spilled', 'spilt', 'spinato', 'spinatos', 'spinner', 'spit', 'spitting', 'splattered', 'splurge', 'splurged', 'spoiled', 'spoke', 'spoken', 'spoon', 'sport', 'sports', 'spot', 'spotless', 'spots', 'spreads', 'sprig', 'sprinkles', 'spudsters', 'squid', 'squirted', 'sriracha', 'stadiums', 'staff', 'staffed', 'staffing', 'staffs', 'stained', 'stairs', 'stale', 'standing', 'standout', 'standouts', 'staple', 'star', 'starbucks', 'starch', 'stared', 'staring', 'stars', 'starving', 'stated', 'states', 'stating', 'stay', 'stead', 'steak', 'steakhouses', 'steer', 'stellar', 'step', 'sterling', 'steve', 'stew', 'stick', 'sticking', 'sticky', 'still', 'stingray', 'stingy', 'stirred', 'stix', 'stock', 'stockyard', 'stomach', 'stood', 'stools', 'stop', 'stopping', 'store', 'stories', 'story', 'strange', 'straw', 'strawberries', 'straws', 'stressful', 'stretchy', 'strike', 'strikes', 'stringy', 'strip', 'stripmall', 'strive', 'stroganoff', 'structure', 'stuck', 'studio', 'stuff', 'stuffed', 'stuffy', 'stumbled', 'stunning', 'stupid', 'stupidity', 'sturgeon', 'style', 'stylish', 'styrofoam', 'sub', 'sublime', 'subpar', 'subsandwich', 'substance', 'substandard', 'subtle', 'subway', 'succulent', 'suck', 'sucked', 'sucker', 'sucking', 'sucks', 'sucky', 'suey', 'suffered', 'suffering', 'sugary', 'suggest', 'suggestions', 'suicide', 'suites', 'sun', 'sundays', 'sundried', 'sunglasses', 'suns', 'super', 'superb', 'supermarket', 'supporting', 'suppose', 'supposed', 'supposedly', 'sur', 'sure', 'surf', 'surmise', 'surpassed', 'surprise', 'surprised', 'surprises', 'surprising', 'surprisingly', 'surround', 'suspect', 'suspects', 'swallow', 'swanky', 'sweet', 'sweetened', 'sweetener', 'sweetest', 'sweetness', 'swig', 'swimming', 'syrup', 'syrupy', 'szechuan', 'tab', 'table', 'tables', 'tablespoon', 'tabulee', 'tacky', 'taco', 'tacos', 'tad', 'tai', 'tails', 'tait', 'taj', 'taken', 'taking', 'talented', 'talk', 'talking', 'tamago', 'tame', 'tammy', 'tana', 'tangsuyuk', 'tangy', 'tap', 'tapas', 'taqueria', 'tara', 'tare', 'tartare', 'tarter', 'tarts', 'taste', 'tasted', 'tasteful', 'tasteless', 'tasty', 'tatami', 'tater', 'tatonka', 'tattoos', 'taxi', 'taxis', 'tea', 'teaspoon', 'technology', 'tee', 'tejas', 'televisions', 'tell', 'telling', 'tells', 'temp', 'temperature', 'ten', 'tender', 'tennessee', 'tent', 'tepan', 'tepid', 'teriaki', 'teriaky', 'terrace', 'terrible', 'terribly', 'terrific', 'terriyaki', 'texan', 'texas', 'texting', 'textures', 'tgi', 'thai', 'thailand', 'than', 'thank', 'thankful', 'thanking', 'that', 'thawed', 'thee', 'their', 'them', 'theme', 'then', 'there', 'they', 'thigh', 'thin', 'thing', 'think', 'third', 'thirds', 'thirsty', 'thirty', 'tho', 'thompson', 'thoroughly', 'those', 'thou', 'thought', 'thoughtful', 'thoughtfully', 'thr', 'three', 'threw', 'throw', 'throwing', 'thrown', 'thru', 'thum', 'thunk', 'thurs', 'thursday', 'thursdays', 'ticket', 'tides', 'tie', 'timing', 'tin', 'tina', 'tiny', 'tip', 'tipico', 'tiramisu', 'tivoli', 'tl', 'tlc', 'to', 'tod', 'today', 'tofu', 'together', 'togo', 'tohm', 'toilet', 'token', 'tokyo', 'told', 'tolerable', 'tom', 'tomato', 'tomatoe', 'tomorrow', 'ton', 'tonight', 'tonkatsu', 'tonkotsu', 'tons', 'too', 'took', 'tooo', 'top', 'topped', 'torrey', 'torta', 'tortas', 'tory', 'tossed', 'total', 'tots', 'tott', 'totts', 'tough', 'tour', 'touristy', 'town', 'townie', 'trader', 'traditional', 'trail', 'train', 'trained', 'training', 'transaction', 'transported', 'trap', 'traps', 'trash', 'trashed', 'travel', 'traveling', 'travelled', 'tray', 'treasure', 'treasures', 'treat', 'treating', 'treats', 'treehouse', 'trek', 'trekkie', 'tremendous', 'trendy', 'tri', 'trick', 'tries', 'trip', 'tripas', 'triple', 'trips', 'trivia', 'trop', 'trophy', 'truck', 'true', 'truely', 'truffle', 'truffled', 'truly', 'try', 'trying', 'tsai', 'tsos', 'tsoynami', 'tuan', 'tucked', 'tucson', 'tuesday', 'tuesdays', 'tuk', 'tummy', 'turf', 'turned', 'turo', 'turon', 'tuscan', 'tuscana', 'tv', 'tvs', 'tweak', 'twenty', 'two', 'ty', 'tyler', 'types', 'ugh', 'uhm', 'um', 'umi', 'umm', 'ummm', 'un', 'unable', 'unacceptable', 'unappealing', 'unappetizing', 'unassuming', 'unattended', 'unattentive', 'unbalanced', 'unbeatable', 'unbelievable', 'unbelievably', 'uncalled', 'uncaring', 'uncc', 'unclear', 'uncomfortable', 'uncooked', 'und', 'under', 'undercooked', 'underseasoned', 'understaffed', 'understand', 'understandable', 'underwhelmed', 'underwhelming', 'undoubtedly', 'uneatable', 'uneaten', 'unedible', 'unexpected', 'unexpectedly', 'unfinished', 'unflavored', 'unfortunate', 'unfortunately', 'unfriendly', 'unhappy', 'unhealthy', 'unhelpful', 'unidentifiable', 'uniform', 'unimpressed', 'unimpressive', 'uninspired', 'uninspiring', 'unique', 'unit', 'united', 'unless', 'unlike', 'unlimited', 'unmemorable', 'unnecessary', 'unobtrusive', 'unorganized', 'unparalleled', 'unpleasant', 'unpretentious', 'unprofessional', 'unreal', 'unreasonable', 'unremarkable', 'unsatisfied', 'unsatisfying', 'unseasoned', 'until', 'untrained', 'unwelcome', 'unwelcoming', 'up', 'upcharge', 'update', 'upon', 'upping', 'upscale', 'upset', 'urban', 'urgency', 'urinal', 'urine', 'us', 'usa', 'use', 'used', 'useful', 'using', 'usually', 'utilize', 'utter', 'uw', 'vague', 'valley', 'value', 'values', 'variations', 'varied', 'varieties', 'variety', 'various', 'vast', 've', 'veal', 'vega', 'vegan', 'vegas', 'velvet', 'velvety', 'vending', 'venetian', 'venison', 'verbal', 'verde', 'verge', 'verified', 'verrado', 'verses', 'very', 'victim', 'vida', 'vietnamese', 'view', 'vig', 'vile', 'village', 'vinaigrette', 'vindaloo', 'vino', 'violation', 'violations', 'violent', 'violently', 'virgin', 'visible', 'visibly', 'visit', 'visiting', 'voiced', 'vomit', 'vomiting', 'vote', 'voucher', 'vouchers', 'vous', 'vovomeena', 'vs', 'waaaaay', 'waaaay', 'waffle', 'waffles', 'wagamama', 'wagyu', 'wahoo', 'wait', 'waited', 'waiter', 'waiting', 'waitor', 'waitress', 'waitresses', 'wakame', 'walked', 'walking', 'walks', 'wall', 'walls', 'walmart', 'walnut', 'walter', 'wang', 'wanted', 'warming', 'warrant', 'was', 'washington', 'wasn', 'wasnt', 'waste', 'wasted', 'wasting', 'watch', 'watched', 'water', 'watered', 'watering', 'watermelon', 'waters', 'watery', 'way', 'wayyy', 'we', 'weak', 'wear', 'wearing', 'weather', 'website', 'week', 'weekday', 'weekend', 'weekends', 'weekly', 'wei', 'weird', 'welcome', 'welcomed', 'welcoming', 'well', 'wellington', 'wells', 'wendys', 'went', 'were', 'weren', 'west', 'wet', 'whack', 'what', 'whatever', 'whatsoever', 'when', 'whenever', 'where', 'which', 'while', 'who', 'whopping', 'why', 'wi', 'wicked', 'wickenburg', 'wide', 'wifi', 'will', 'willing', 'willl', 'willy', 'wilted', 'win', 'winchell', 'window', 'wine', 'wines', 'wings', 'winner', 'winning', 'wins', 'wiped', 'wisco', 'wisconsin', 'wise', 'wiseguy', 'wish', 'wished', 'with', 'wolfley', 'woman', 'womp', 'won', 'wonder', 'wonderful', 'wonderfully', 'wondering', 'wondertum', 'wong', 'wont', 'wood', 'woohoo', 'woooo', 'woot', 'worker', 'workers', 'world', 'worm', 'worn', 'worries', 'worse', 'worst', 'worth', 'worthless', 'would', 'wouldn', 'wouldnt', 'wow', 'wowza', 'wrap', 'wrapped', 'wrapping', 'write', 'wrong', 'wrote', 'wry', 'wtf', 'wth', 'wynn', 'xlnt', 'xtra', 'yadda', 'yankees', 'yawn', 'yay', 'years', 'yell', 'yelled', 'yelling', 'yellow', 'yellowtail', 'yes', 'yesterday', 'yew', 'yikes', 'yippee', 'yokoso', 'yom', 'york', 'yorker', 'you', 'your', 'yucca', 'yuck', 'yucky', 'yuk', 'yum', 'yummier', 'yummiest', 'yummm', 'yummmm', 'yummmmmmmm', 'yummy', 'yun', 'yuppie', 'yyummy', 'za', 'zero', 'zi', 'zipps', 'zombies', 'zu', 'zuchini', 'zuma']\n"
     ]
    }
   ],
   "source": [
    "clf = MultinomialNB().fit(train_Kbest, train_lab)\n",
    "predNB = clf.predict(test_Kbest)\n",
    "pred = list(predNB)\n",
    "cm = confusion_matrix(pred, test_lab)\n",
    "print(cm)\n",
    "print(accuracy_score(pred, test_lab))\n",
    "print(classification_report(pred,  test_lab))\n",
    "\n",
    "# View the selected features\n",
    "selected_features = list(np.array(vectorizer.get_feature_names())[ch21.get_support()])\n",
    "print(selected_features)"
   ]
  }
 ],
 "metadata": {
  "kernelspec": {
   "display_name": "Python 3",
   "language": "python",
   "name": "python3"
  },
  "language_info": {
   "codemirror_mode": {
    "name": "ipython",
    "version": 3
   },
   "file_extension": ".py",
   "mimetype": "text/x-python",
   "name": "python",
   "nbconvert_exporter": "python",
   "pygments_lexer": "ipython3",
   "version": "3.5.2"
  }
 },
 "nbformat": 4,
 "nbformat_minor": 2
}
